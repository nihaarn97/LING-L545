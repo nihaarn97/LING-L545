{
 "cells": [
  {
   "cell_type": "code",
   "execution_count": 10,
   "id": "54a0e656",
   "metadata": {},
   "outputs": [],
   "source": [
    "actual = ['Ko ngā Māori te tangata whenua o Aotearoa; koia hoki te ingoa o tō rātou reo.',\n",
    "'Ko te tikanga o te kupu Māori, he \\'tangata noa\\', otirā, i roto i ngā kōrero pakiwaitara me ngā kōrero tuku iho ko tana mahi hei whakarerekē i ngā tāngata me ngā atua, ngā kehua rānei.',\n",
    "'He hononga ētahi i roto i ētahi atu reo Porinīhia, he tauira ko te Hawai\\'i, ko tōna tikanga, he mea māori, he mea taketake, he tino mea.',\n",
    "'Koia hoki te ingoa o te iwi me te reo o te Kuki Airani, e mōhiotia ana hei te reo o Rarotonga.',\n",
    "'Te iwi Māori.',\n",
    "'Ko te iwi Māori, he iwi māia, he iwi whakaaro nui ki te hāpai i to ratōu ingoa.',\n",
    "'Te take o ngā tāngata Māori.',\n",
    "'Ko te take o ngā tāngata Māori ko Ranginui-e-tū-nā, ko Papa-tū-a-nuku-e-takoto-nei.',\n",
    "'I noho rāua ki roto ki te pōuri.',\n",
    "'I pipiri rawa tētahi ki tētahi, nō reira kīhai te marama i puta.',\n",
    "'Ka whakatika ko Tāne-mahuta ki te whawhai ki ōna mātua, ka panga tōna upoko ki raro, ko ōna waewae ki runga, nā, kātahi ka mawehe a Rangi rāua ko Papa, aue noa ana, ka heuea te pō, ka heuea te ao, ā, ka kitea te tini tāngata e huna nei ki roto ki te arearenga o ngā poho o Rangi rāua ko Papa.',\n",
    "'Kei te aroha tonu te wahine ki tāna Tāne, ko ia te kohu o ngā maunga e rere nā ki runga, ka ringihia hoki ngā roimata e Rangi ki runga ki a Papa.',\n",
    "'Ko te reo Māori te reo o te tangata whenua o Aotearoa.',\n",
    "'Nā te ture anō i whakamana te reo Māori hei reo a te motu o Aotearoa.',\n",
    "'160,000 ngā kaikōrero reo Māori i Aotearoa, e ai ki te tatauranga tangata o te motu i te tau 1996.',\n",
    "'Ko ngā takiwā kaha ki te mau i te reo hei reo hapori ko Te Tai-tokerau, ko Te Urewera, ko Te Tai-rāwhiti.',\n",
    "'He reo o Porinīhia.',\n",
    "'Ko te reo Māori nō te reo whānau o ngā iwi o Porinīhia ki te rāwhiti, arā he reo ka ahu \\'mai nō te Moana-nui-a-Kiwa, me te aha, e ōrite ana te reo Māori ki te reo o Rarotonga, o Manihiki-Rakahanga, o Tahiti, ā, o ngā moutere Tuamotu anō hoki.',\n",
    "'He whanaunga āhua tawhiti anō ki te reo o Hawaii, o Nuku Hiva, o Rapa Nui me ētahi atu moutere o te Moana-nui-o-Kiwa.',\n",
    "'Ahakoa he nui atu i te kotahi mano tau i wehe mai i ērā o aua reo whanaunga, he tata tonu.',\n",
    "'I te taenga mai o Kāpene Kuki ki Aotearoa i te 1769, he rangatira nō Tahiti, ko Tupaea te ingoa, i runga i tana kaipuke.',\n",
    "'Ko te mahi a Tupaea, he kōrero tahi ki ngā Māori, i mārama rātou ki tana reo, kore rawa he raruraru; arā he kaiwhakamāori ia kia mōhio ai a Kuki ki ngā whakaaro o te Māori o taua wā.',\n",
    "'Mā te ripanga i raro iho nei e whakamārama ngā hononga i waenganui i ngā reo o Porinīhia:',\n",
    "'He reo tapu, he reo whai mana.',\n",
    "'Ki tō te Māori whakaaro, ko te reo Māori he reo tapu, he reo tuku iho nā ngā atua ki ngā tūpuna.',\n",
    "'He mana tō te reo, he ihi tō te reo, he tapu tō te reo.',\n",
    "'He wairua tō te reo, he mauri anō tō te reo.',\n",
    "'Mā te wairua ka rangona te reo, mā te mauri ka mana ai te reo.',\n",
    "'I kī mai ngā tūpuna, ko te reo rauriki te reo tapu o Ranginui rātou ko ngā atua; ko te reo reiuru e kōrerotia ake nei ko te reo tapu o Papatūānuku.',\n",
    "'Nā, ko te reo rauriki te reo hei kawe i te manawa tapu o ngā karakia, ā, ka whakauru atu ki roto i te tangata, kia pērā anō te mana o tana kupu i tō ngā atua ki tā rātou i whakahau mai ai i te rangi.',\n",
    "'Ko te reo reiuru, ko tōna kōrero ko te reo e taea ai e te tangata te kōrero, te mātau rānei ki ngā momo reo kē o Papatūānuku, arā te reo o ngā manu, o ngā ika, o ngā kararehe, o ngā rākau, o ngā uri katoa o Papatūānuku.',\n",
    "'Kia nei te reo wāhine hei whakaoho ake i te hunga wairua i runga anō i te tangi karanga ka whakapāoho ki runga i ngā marae.',\n",
    "'E kore e taea e te tangata te mau ki ēnei reo, mena kāhore noa e tapu pono ki ngā atua, ko te mea nui ko te reo tapu me ngā karakia tapu.',\n",
    "'Mā te reo ka manaakitia te tangata, ko taua reo anō ka kanga i te tangata; mā te reo ka piki te tangata ki ngā taumata whakahirahira, ko taua reo anō ka heke te tangata ki te pito kukume tonu o Whirotetupua.', \n",
    "'Nō reira, ko te reo tapu he tohu mana nō te tangata, he mana tūturu nō te atua, e kore e whakapōreareatia e te tangata kē\" (Barlow 1991:112).',\n",
    "'Reo-ā-iwi.',\n",
    "'He rerekē te tangi me te mita o te reo o ia iwi, o ia iwi, o ia iwi; hei tauira, he rerekē te tangi mai o te reo o Waikato ki tērā o Te Wai-pounamu.',\n",
    "'Nā Te Manihera (R. Maunsell), te ātirīkona o Tāmaki Makaurau, i kōrerohia ngā reo-ā-iwi i roto i te tuawhā o ngā putanga o tana pukapuka \"Grammar of the New Zealand Language\" i te 1894.', \n",
    "'E ai ki Te Manihera, e whitu ngā reo-ā-iwi nō roto tonu i Te Ika-a-Māui.', \n",
    "'Nāna hoki te kōrero, he rerekētanga anō i roto tonu o aua reo e whitu.', \n",
    "'Mai i taua wā, nā ētahi atu tohunga wetereo e whakarerekēngia ai aua whakaaro; engari mā te ripanga nei e whakaatu ētahi o aua rerekētanga:',\n",
    "'Waimemehatanga.', \n",
    "'Nō ngā tau whakatuwhera o te Rautau 19, ka tīmata te noho tahi a te Pākehā ki te Māori i Aotearoa nei.', \n",
    "'Nō te tau 1815, ka puta te pukapuka tuatahi i tāia ki te reo, \"He Korao o Niu Tireni\" nā Tāmati Kānara.', \n",
    "'Ko te whakamārama o te taitara o taua pukapuka, \\'He kōrero o Aotearoa\\'.', \n",
    "'Nō muri ake, ka tāia e Koroneho, e Wiremu he pukapuka i roto i te reo.', \n",
    "'Ko tētahi pukapuka whaimana i tāia i taua wā ko te \"Paipera Tapu\".', \n",
    "'He kaha hoki te Māori ki te tuhituhi kōrero i te reo.', \n",
    "'Ka taea hoki te kī, i taua wā, he pai ake ngā Māori i ngā Pākēhā ki te tuhituhi.',\n",
    "'Ko Te Wiki o te Reo Māori he kaupapa o Te Taura Whiri i te Reo Māori kia whakatairangatia te whakamahia o te reo MāoriI tīmata te Wiki o te Reo Māori i te tau 1975.', \n",
    "'I te tīmatanga i whakatūhia he rā hei whakanui i te reo Māori.', \n",
    "'Ko te 14 o Mahuru 1972 te rā i whakatakotohia ki mua o te aroaro o te Pāremata te petihana mō te Reo Māori e mau ana i ngā waitohu 30,000.', \n",
    "'Nō te tau 1973 ka huri te rā hei wiki whakanui i te reo.', \n",
    "'I muri mai i tēnei ka nekehia e te Tāhuhu Mātauranga ki te marama o Hōngongoi kia hāngai ki te wāhanga kura o taua tau, ā, kei te mau tonu ki taua marama.', \n",
    "'Te Taura Whiri i te Reo Māori.', \n",
    "'I te tau 1986, i mauria atu he kerēme ki te Rōpū Whakamana i Te Tiriti o Waitangi, ko te kerēme mō te reo Māori.', \n",
    "'Kātahi te ture mo te Reo Māori ka pahure hei Reo atoato i Aotearoa.', \n",
    "'I taua wā tonu, ka tū Te Taura Whiri i te Reo Māori hei Tari Kawana hei whanaketanga hei tautoko hoki i te Reo, i runga i te whakaaro i tukuna kētia te kerēme mo Te Reo Māori ki te Rōpū Whakamana.', \n",
    "'Ka whakamanahia-ā-ture te Ture Reo Māori i te Here-turi-kōkā o 1987.', \n",
    "'E toru ōna kaupapa:']"
   ]
  },
  {
   "cell_type": "markdown",
   "id": "8075dc80",
   "metadata": {},
   "source": [
    "# Testing pysbd"
   ]
  },
  {
   "cell_type": "code",
   "execution_count": 18,
   "id": "a71848ee",
   "metadata": {},
   "outputs": [
    {
     "name": "stdout",
     "output_type": "stream",
     "text": [
      "60\n"
     ]
    }
   ],
   "source": [
    "import pysbd\n",
    "import sys\n",
    "seg = pysbd.Segmenter(language=\"en\", clean=False)\n",
    "with open(\"segmenter_ip.txt\", \"r\", encoding=\"utf-8\") as f:\n",
    "    sentence_list_sbd = seg.segment(f.read())\n",
    "    print(len(sentence_list_sbd))"
   ]
  },
  {
   "cell_type": "markdown",
   "id": "f08290bf",
   "metadata": {},
   "source": [
    "# Testing spacy en_core_web_sm"
   ]
  },
  {
   "cell_type": "code",
   "execution_count": 19,
   "id": "34df9d7b",
   "metadata": {},
   "outputs": [
    {
     "name": "stdout",
     "output_type": "stream",
     "text": [
      "165\n",
      "12\n"
     ]
    }
   ],
   "source": [
    "import spacy \n",
    "\n",
    "nlp = spacy.load(\"en_core_web_sm\") \n",
    "with open(\"segmenter_ip.txt\", \"r\", encoding=\"utf-8\") as f:\n",
    "    text = f.read()\n",
    "doc = nlp(text)\n",
    "sentence_list_sm = []\n",
    "for sent in doc.sents: \n",
    "    sentence_list_sm.append(str(sent))\n",
    "\n",
    "count = 0\n",
    "for val in sentence_list_sm:\n",
    "    if val in actual:\n",
    "        count = count + 1\n",
    "\n",
    "print(len(sentence_list_sm))\n",
    "print(count)"
   ]
  },
  {
   "cell_type": "markdown",
   "id": "414a99ae",
   "metadata": {},
   "source": [
    "# Testing spacy en_core_web_lg"
   ]
  },
  {
   "cell_type": "code",
   "execution_count": 20,
   "id": "ab6211e3",
   "metadata": {},
   "outputs": [
    {
     "name": "stdout",
     "output_type": "stream",
     "text": [
      "119\n",
      "16\n"
     ]
    }
   ],
   "source": [
    "import spacy \n",
    "\n",
    "nlp = spacy.load(\"en_core_web_lg\") \n",
    "with open(\"segmenter_ip.txt\", \"r\", encoding=\"utf-8\") as f:\n",
    "    text = f.read()\n",
    "doc = nlp(text)\n",
    "sentence_list_lg = []\n",
    "for sent in doc.sents: \n",
    "    sentence_list_lg.append(str(sent))\n",
    "    \n",
    "count = 0\n",
    "for val in sentence_list_lg:\n",
    "    if val in actual:\n",
    "        count = count + 1\n",
    "        \n",
    "print(len(sentence_list_lg))\n",
    "print(count)"
   ]
  },
  {
   "cell_type": "code",
   "execution_count": null,
   "id": "5e1753ae",
   "metadata": {},
   "outputs": [],
   "source": []
  }
 ],
 "metadata": {
  "kernelspec": {
   "display_name": "Python 3",
   "language": "python",
   "name": "python3"
  },
  "language_info": {
   "codemirror_mode": {
    "name": "ipython",
    "version": 3
   },
   "file_extension": ".py",
   "mimetype": "text/x-python",
   "name": "python",
   "nbconvert_exporter": "python",
   "pygments_lexer": "ipython3",
   "version": "3.9.5"
  }
 },
 "nbformat": 4,
 "nbformat_minor": 5
}
