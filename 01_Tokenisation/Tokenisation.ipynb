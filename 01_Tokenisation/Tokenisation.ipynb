{
 "cells": [
  {
   "cell_type": "markdown",
   "id": "b56c028a",
   "metadata": {},
   "source": [
    "## Import Library"
   ]
  },
  {
   "cell_type": "code",
   "execution_count": 1,
   "id": "e43d8b73",
   "metadata": {},
   "outputs": [],
   "source": [
    "from conllu import parse"
   ]
  },
  {
   "cell_type": "markdown",
   "id": "bba35196",
   "metadata": {},
   "source": [
    "## Generate Surface Forms Dictionary Using Train File"
   ]
  },
  {
   "cell_type": "code",
   "execution_count": 3,
   "id": "8718b1e3",
   "metadata": {},
   "outputs": [
    {
     "data": {
      "text/plain": [
       "['ホッケー',\n",
       " 'に',\n",
       " 'は',\n",
       " 'デンジャラス',\n",
       " 'プレー',\n",
       " 'の',\n",
       " '反則',\n",
       " 'が',\n",
       " 'ある',\n",
       " 'で',\n",
       " '、',\n",
       " '膝',\n",
       " 'より',\n",
       " '上',\n",
       " 'ボール',\n",
       " 'を',\n",
       " '浮かす',\n",
       " 'こと',\n",
       " '基本',\n",
       " '的',\n",
       " 'なる',\n",
       " 'その',\n",
       " '例外',\n",
       " '一',\n",
       " 'つ',\n",
       " 'この',\n",
       " 'スクープ',\n",
       " '。',\n",
       " 'また',\n",
       " '行き',\n",
       " 'たい',\n",
       " 'そんな',\n",
       " '気持ち',\n",
       " 'さ',\n",
       " 'せ',\n",
       " 'て',\n",
       " 'くれる',\n",
       " 'お',\n",
       " '店',\n",
       " 'です',\n",
       " '手',\n",
       " '持っ',\n",
       " 'た',\n",
       " '特殊',\n",
       " 'な',\n",
       " '刃物',\n",
       " '使っ',\n",
       " 'アクロバティック',\n",
       " '体術',\n",
       " 'や']"
      ]
     },
     "execution_count": 3,
     "metadata": {},
     "output_type": "execute_result"
    }
   ],
   "source": [
    "with open(\"ja_gsd-ud-train.conllu\", \"r\", encoding=\"utf-8\") as file:\n",
    "    data = file.read()\n",
    "\n",
    "sentences = parse(data)\n",
    "surface_forms = {}\n",
    "\n",
    "for sentence in sentences:\n",
    "    for token in sentence:\n",
    "        word = token['form']\n",
    "        surface_forms[word] = True\n",
    "\n",
    "jp_dictionary = list(surface_forms.keys())\n",
    "\n",
    "jp_dictionary[0:50]"
   ]
  },
  {
   "cell_type": "markdown",
   "id": "0b9a61b6",
   "metadata": {},
   "source": [
    "## Creating A reference.txt File Using The Test File"
   ]
  },
  {
   "cell_type": "code",
   "execution_count": 4,
   "id": "aa3c7392",
   "metadata": {},
   "outputs": [
    {
     "data": {
      "text/plain": [
       "'これ に 不快 感 を 示す 住民 は い まし た が , 現在 , 表立っ て 反対 や 抗議 の 声 を 挙げ て いる 住民 は い ない よう です 。 \\n幸福 の 科学 側 から は , 特に どう し て ほしい と いう 要望 は いただい て い ませ ん 。 \\n星取り 参加 は 当然 と さ れ , 不 参加 は 白眼 視 さ れる 。 \\n室長 の 対応 に は 終始 誠実 さ が 感じ られ た 。 \\n多く の 女性 が 生理 の こと で 悩ん で い ます 。 \\n先生 の 理想 は 限りなく 高い 。 \\nそれ は 兎も角 , 私 も 明日 の 社説 を 楽しみ に し て おり ます 。 \\n'"
      ]
     },
     "execution_count": 4,
     "metadata": {},
     "output_type": "execute_result"
    }
   ],
   "source": [
    "with open(\"ja_gsd-ud-test.conllu\", \"r\", encoding=\"utf-8\") as file:\n",
    "    data = file.read()\n",
    "\n",
    "sentences = parse(data)\n",
    "\n",
    "sample_text = \"\"\n",
    "for sentence in sentences[:7]:\n",
    "    for token in sentence:\n",
    "        sample_text += token['form'] + \" \"\n",
    "    sample_text += \"\\n\"\n",
    "\n",
    "with open(\"reference.txt\", \"w\", encoding=\"utf-8\") as output_file:\n",
    "    output_file.write(sample_text)\n",
    "    \n",
    "sample_text"
   ]
  },
  {
   "cell_type": "markdown",
   "id": "b52af494",
   "metadata": {},
   "source": [
    "## Maxmatch Implementation"
   ]
  },
  {
   "cell_type": "code",
   "execution_count": 5,
   "id": "cd45616d",
   "metadata": {},
   "outputs": [],
   "source": [
    "def maxmatch(text, dictionary):\n",
    "    result = []\n",
    "    while text:\n",
    "        found = False\n",
    "        for i in range(len(text), 0, -1):\n",
    "            firstword = text[:i]\n",
    "            remainder = text[i:]\n",
    "            if firstword in dictionary:\n",
    "                result.append(firstword)\n",
    "                text = remainder\n",
    "                found = True\n",
    "                break\n",
    "        if not found:\n",
    "            result.append(text[0])\n",
    "            text = text[1:]\n",
    "    return ' '.join(result)"
   ]
  },
  {
   "cell_type": "markdown",
   "id": "87518d27",
   "metadata": {},
   "source": [
    "## Create hypothesis.txt File Using Maxmatch output"
   ]
  },
  {
   "cell_type": "code",
   "execution_count": 9,
   "id": "6fa62e18",
   "metadata": {},
   "outputs": [],
   "source": [
    "with open(\"hypothesis.txt\", \"w\", encoding=\"utf-8\") as hypothesis_file:\n",
    "    hypothesis_file.write(maxmatch(sample_text, jp_dictionary))"
   ]
  },
  {
   "cell_type": "code",
   "execution_count": null,
   "id": "6908057f",
   "metadata": {},
   "outputs": [],
   "source": []
  }
 ],
 "metadata": {
  "kernelspec": {
   "display_name": "Python 3",
   "language": "python",
   "name": "python3"
  },
  "language_info": {
   "codemirror_mode": {
    "name": "ipython",
    "version": 3
   },
   "file_extension": ".py",
   "mimetype": "text/x-python",
   "name": "python",
   "nbconvert_exporter": "python",
   "pygments_lexer": "ipython3",
   "version": "3.9.5"
  }
 },
 "nbformat": 4,
 "nbformat_minor": 5
}
