{
 "cells": [
  {
   "cell_type": "code",
   "execution_count": 6,
   "id": "b2e8db00",
   "metadata": {},
   "outputs": [
    {
     "name": "stdout",
     "output_type": "stream",
     "text": [
      "English\n",
      "OV : 0.0477 VO : 0.9523\n",
      "French\n",
      "OV : 0.346 VO : 0.654\n",
      "Japanese\n",
      "OV : 0.9158 VO : 0.0842\n",
      "Marathi\n",
      "OV : 0.9069 VO : 0.0931\n",
      "Sanskrit\n",
      "OV : 0.7746 VO : 0.2254\n",
      "Italian\n",
      "OV : 0.1977 VO : 0.8023\n",
      "German\n",
      "OV : 0.4938 VO : 0.5062\n",
      "Polish\n",
      "OV : 0.2809 VO : 0.7191\n",
      "Russian\n",
      "OV : 0.194 VO : 0.806\n",
      "Spanish\n",
      "OV : 0.1689 VO : 0.8311\n"
     ]
    },
    {
     "data": {
      "image/png": "[encoded data removed]",
      "text/plain": [
       "<Figure size 720x576 with 1 Axes>"
      ]
     },
     "metadata": {
      "needs_background": "light"
     },
     "output_type": "display_data"
    }
   ],
   "source": [
    "import matplotlib.pyplot as plt\n",
    "\n",
    "treebanks = ['en_atis-ud-train.conllu','fr_fqb-ud-test.conllu','ja_pud-ud-test.conllu',\n",
    "             'mr_ufal-ud-train.conllu','sa_vedic-ud-train.conllu','it_isdt-ud-train.conllu',\n",
    "             'de_gsd-ud-train.conllu','pl_lfg-ud-train.conllu','ru_gsd-ud-train.conllu',\n",
    "             'es_gsd-ud-train.conllu']\n",
    "languages = ['English', 'French', 'Japanese', 'Marathi', 'Sanskrit',\n",
    "             'Italian', 'German', 'Polish', 'Russian', 'Spanish']\n",
    "labels = ['ENG', 'FRE', 'JAP', 'MAR', 'SAN', 'ITA', 'GER', 'POL', 'RUS', 'SPA']\n",
    "\n",
    "prop_ov = []\n",
    "prop_vo = []\n",
    "i = 0\n",
    "\n",
    "for file in treebanks:\n",
    "    udt = open(file, 'r', encoding = 'utf-8')\n",
    "    vo = 0\n",
    "    ov = 0\n",
    "    for val in udt.readlines():\n",
    "        line = val.split('\\t')\n",
    "        if 'obj' in line:\n",
    "            if line[6] > line[0]:\n",
    "                ov = ov + 1\n",
    "            else:\n",
    "                vo = vo + 1\n",
    "    \n",
    "    if ov < vo:\n",
    "        ov = ov/(ov+vo)\n",
    "        vo = 1 - ov\n",
    "    else:\n",
    "        vo = vo/(vo+ov)\n",
    "        ov = 1 - vo\n",
    "    \n",
    "    prop_ov.append(ov)\n",
    "    prop_vo.append(vo)\n",
    "    \n",
    "    print(languages[i] + '\\nOV : ' + str(round(ov,4)) + ' VO : ' + str(round(vo,4)))\n",
    "    i=i+1\n",
    "\n",
    "plt.figure(figsize=(10, 8))\n",
    "plt.plot(prop_ov, prop_vo, 'ro')\n",
    "plt.title('Relative Word Order of Verb and Object')\n",
    "plt.xlim([0,1])\n",
    "plt.ylim([0,1])\n",
    "plt.xlabel('OV Proportion')\n",
    "plt.ylabel('VO Proportion')\n",
    "for i in range(len(labels)):\n",
    "    plt.text(prop_ov[i]-0.03, prop_vo[i]-0.03, labels[i], fontsize=9)\n",
    "\n",
    "plt.show()\n",
    "    "
   ]
  },
  {
   "cell_type": "code",
   "execution_count": null,
   "id": "d987c0ec",
   "metadata": {},
   "outputs": [],
   "source": []
  }
 ],
 "metadata": {
  "kernelspec": {
   "display_name": "Python 3",
   "language": "python",
   "name": "python3"
  },
  "language_info": {
   "codemirror_mode": {
    "name": "ipython",
    "version": 3
   },
   "file_extension": ".py",
   "mimetype": "text/x-python",
   "name": "python",
   "nbconvert_exporter": "python",
   "pygments_lexer": "ipython3",
   "version": "3.9.5"
  }
 },
 "nbformat": 4,
 "nbformat_minor": 5
}
