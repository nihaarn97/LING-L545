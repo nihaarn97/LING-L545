{
 "cells": [
  {
   "cell_type": "code",
   "execution_count": 10,
   "id": "370a06cb",
   "metadata": {},
   "outputs": [],
   "source": [
    "#Downgrade fastai to 1.0.61\n",
    "#Downgrade protobuf to 3.20.0\n",
    "#Downgrade spacy to 2.3.5\n",
    "from fastai.text import TextList, language_model_learner, AWD_LSTM, text_classifier_learner\n",
    "from fastai.vision import ClassificationInterpretation\n",
    "from pandas_ods_reader import read_ods\n",
    "import re"
   ]
  },
  {
   "cell_type": "code",
   "execution_count": 29,
   "id": "1b852652",
   "metadata": {},
   "outputs": [],
   "source": [
    "import warnings\n",
    "warnings.filterwarnings('ignore')"
   ]
  },
  {
   "cell_type": "code",
   "execution_count": 19,
   "id": "e1ffffd9",
   "metadata": {},
   "outputs": [],
   "source": [
    "def clean_txt(hindi_str):\n",
    "    hindi_str = re.sub('(https?:\\/\\/)?([\\da-z\\.-]+)\\.([a-z\\.]{2,6})([\\/\\w\\.-]*)*\\/?\\S', '', hindi_str, flags=re.MULTILINE)\n",
    "    \n",
    "    hindi_str = re.sub(r'[A-Za-z0-9]+', '', \n",
    "                       hindi_str, flags=re.MULTILINE)\n",
    "    \n",
    "    hindi_str = ''.join(re.sub(\"(@[A-Za-z0–9]+)|(#[A-Za-z0–9]+)|([@])|([#])|([,])|([\\.])|([\\/])|([\\])|([\\)])|([\\(])|([-])|([\\:])|([\\?])|([_])|([!])\",\"\",hindi_str))\n",
    "    hindi_str = ''.join(re.sub(\"(\\')|(\\\")\", \"\", hindi_str))\n",
    "    hindi_str = hindi_str.strip()\n",
    "    return hindi_str"
   ]
  },
  {
   "cell_type": "code",
   "execution_count": 20,
   "id": "6389c542",
   "metadata": {
    "scrolled": true
   },
   "outputs": [
    {
     "data": {
      "text/html": [
       "<div>\n",
       "<style scoped>\n",
       "    .dataframe tbody tr th:only-of-type {\n",
       "        vertical-align: middle;\n",
       "    }\n",
       "\n",
       "    .dataframe tbody tr th {\n",
       "        vertical-align: top;\n",
       "    }\n",
       "\n",
       "    .dataframe thead th {\n",
       "        text-align: right;\n",
       "    }\n",
       "</style>\n",
       "<table border=\"1\" class=\"dataframe\">\n",
       "  <thead>\n",
       "    <tr style=\"text-align: right;\">\n",
       "      <th></th>\n",
       "      <th>column.0</th>\n",
       "      <th>column.1</th>\n",
       "    </tr>\n",
       "  </thead>\n",
       "  <tbody>\n",
       "    <tr>\n",
       "      <th>0</th>\n",
       "      <td>लोग वतन तक खा जाते हैं इसका इसे यकीन नहींमान ज...</td>\n",
       "      <td>negative</td>\n",
       "    </tr>\n",
       "    <tr>\n",
       "      <th>1</th>\n",
       "      <td>गुमनाम है वतन पर मिटने वाले लोग आतन्कवादियों स...</td>\n",
       "      <td>negative</td>\n",
       "    </tr>\n",
       "    <tr>\n",
       "      <th>2</th>\n",
       "      <td>ज़ंजीर बदली जा रही थी मैं समझा था रिहाई हो गयी है</td>\n",
       "      <td>negative</td>\n",
       "    </tr>\n",
       "    <tr>\n",
       "      <th>3</th>\n",
       "      <td>यूपी में बड़े स्तर पर दंगे करवा सकती है बीजेपी...</td>\n",
       "      <td>negative</td>\n",
       "    </tr>\n",
       "    <tr>\n",
       "      <th>4</th>\n",
       "      <td>अंग्रेजी नहीं आती है इसलिए हिन्दी ट्विट ज्यादा...</td>\n",
       "      <td>negative</td>\n",
       "    </tr>\n",
       "  </tbody>\n",
       "</table>\n",
       "</div>"
      ],
      "text/plain": [
       "                                            column.0  column.1\n",
       "0  लोग वतन तक खा जाते हैं इसका इसे यकीन नहींमान ज...  negative\n",
       "1  गुमनाम है वतन पर मिटने वाले लोग आतन्कवादियों स...  negative\n",
       "2  ज़ंजीर बदली जा रही थी मैं समझा था रिहाई हो गयी है  negative\n",
       "3  यूपी में बड़े स्तर पर दंगे करवा सकती है बीजेपी...  negative\n",
       "4  अंग्रेजी नहीं आती है इसलिए हिन्दी ट्विट ज्यादा...  negative"
      ]
     },
     "execution_count": 20,
     "metadata": {},
     "output_type": "execute_result"
    }
   ],
   "source": [
    "hindi_data = read_ods(\"model_train.ods\", 1, headers=False)\n",
    "hindi_data.head(5)"
   ]
  },
  {
   "cell_type": "code",
   "execution_count": 21,
   "id": "1222b835",
   "metadata": {},
   "outputs": [],
   "source": [
    "hindi_data = hindi_data.rename(columns={'column.0': 'hindi_text', 'column.1': 'label'})"
   ]
  },
  {
   "cell_type": "code",
   "execution_count": 22,
   "id": "d541b796",
   "metadata": {
    "scrolled": true
   },
   "outputs": [
    {
     "data": {
      "text/html": [
       "<div>\n",
       "<style scoped>\n",
       "    .dataframe tbody tr th:only-of-type {\n",
       "        vertical-align: middle;\n",
       "    }\n",
       "\n",
       "    .dataframe tbody tr th {\n",
       "        vertical-align: top;\n",
       "    }\n",
       "\n",
       "    .dataframe thead th {\n",
       "        text-align: right;\n",
       "    }\n",
       "</style>\n",
       "<table border=\"1\" class=\"dataframe\">\n",
       "  <thead>\n",
       "    <tr style=\"text-align: right;\">\n",
       "      <th></th>\n",
       "      <th>hindi_text</th>\n",
       "      <th>label</th>\n",
       "    </tr>\n",
       "  </thead>\n",
       "  <tbody>\n",
       "    <tr>\n",
       "      <th>0</th>\n",
       "      <td>लोग वतन तक खा जाते हैं इसका इसे यकीन नहींमान ज...</td>\n",
       "      <td>negative</td>\n",
       "    </tr>\n",
       "    <tr>\n",
       "      <th>1</th>\n",
       "      <td>गुमनाम है वतन पर मिटने वाले लोग आतन्कवादियों स...</td>\n",
       "      <td>negative</td>\n",
       "    </tr>\n",
       "    <tr>\n",
       "      <th>2</th>\n",
       "      <td>ज़ंजीर बदली जा रही थी मैं समझा था रिहाई हो गयी है</td>\n",
       "      <td>negative</td>\n",
       "    </tr>\n",
       "    <tr>\n",
       "      <th>3</th>\n",
       "      <td>यूपी में बड़े स्तर पर दंगे करवा सकती है बीजेपी...</td>\n",
       "      <td>negative</td>\n",
       "    </tr>\n",
       "    <tr>\n",
       "      <th>4</th>\n",
       "      <td>अंग्रेजी नहीं आती है इसलिए हिन्दी ट्विट ज्यादा...</td>\n",
       "      <td>negative</td>\n",
       "    </tr>\n",
       "  </tbody>\n",
       "</table>\n",
       "</div>"
      ],
      "text/plain": [
       "                                          hindi_text     label\n",
       "0  लोग वतन तक खा जाते हैं इसका इसे यकीन नहींमान ज...  negative\n",
       "1  गुमनाम है वतन पर मिटने वाले लोग आतन्कवादियों स...  negative\n",
       "2  ज़ंजीर बदली जा रही थी मैं समझा था रिहाई हो गयी है  negative\n",
       "3  यूपी में बड़े स्तर पर दंगे करवा सकती है बीजेपी...  negative\n",
       "4  अंग्रेजी नहीं आती है इसलिए हिन्दी ट्विट ज्यादा...  negative"
      ]
     },
     "execution_count": 22,
     "metadata": {},
     "output_type": "execute_result"
    }
   ],
   "source": [
    "for i in range(hindi_data['hindi_text'].size):\n",
    "    hindi_data['hindi_text'][i] = clean_txt(hindi_data['hindi_text'][i])\n",
    "hindi_data.head()"
   ]
  },
  {
   "cell_type": "code",
   "execution_count": 23,
   "id": "edb97d83",
   "metadata": {},
   "outputs": [
    {
     "data": {
      "text/html": [
       "<div>\n",
       "<style scoped>\n",
       "    .dataframe tbody tr th:only-of-type {\n",
       "        vertical-align: middle;\n",
       "    }\n",
       "\n",
       "    .dataframe tbody tr th {\n",
       "        vertical-align: top;\n",
       "    }\n",
       "\n",
       "    .dataframe thead th {\n",
       "        text-align: right;\n",
       "    }\n",
       "</style>\n",
       "<table border=\"1\" class=\"dataframe\">\n",
       "  <thead>\n",
       "    <tr style=\"text-align: right;\">\n",
       "      <th></th>\n",
       "      <th>hindi_text</th>\n",
       "      <th>label</th>\n",
       "    </tr>\n",
       "  </thead>\n",
       "  <tbody>\n",
       "    <tr>\n",
       "      <th>0</th>\n",
       "      <td>लोग वतन खा जाते यकीन नहींमान जाएगा तू ले जाकर ...</td>\n",
       "      <td>negative</td>\n",
       "    </tr>\n",
       "    <tr>\n",
       "      <th>1</th>\n",
       "      <td>गुमनाम वतन मिटने लोग आतन्कवादियों मिलकर मशहूर गये</td>\n",
       "      <td>negative</td>\n",
       "    </tr>\n",
       "    <tr>\n",
       "      <th>2</th>\n",
       "      <td>ज़ंजीर बदली रही मैं समझा रिहाई गयी</td>\n",
       "      <td>negative</td>\n",
       "    </tr>\n",
       "    <tr>\n",
       "      <th>3</th>\n",
       "      <td>यूपी बड़े स्तर दंगे करवा सकती बीजेपी मुलायम सि...</td>\n",
       "      <td>negative</td>\n",
       "    </tr>\n",
       "    <tr>\n",
       "      <th>4</th>\n",
       "      <td>अंग्रेजी आती इसलिए हिन्दी ट्विट ज्यादा हूँ । न...</td>\n",
       "      <td>negative</td>\n",
       "    </tr>\n",
       "  </tbody>\n",
       "</table>\n",
       "</div>"
      ],
      "text/plain": [
       "                                          hindi_text     label\n",
       "0  लोग वतन खा जाते यकीन नहींमान जाएगा तू ले जाकर ...  negative\n",
       "1  गुमनाम वतन मिटने लोग आतन्कवादियों मिलकर मशहूर गये  negative\n",
       "2                 ज़ंजीर बदली रही मैं समझा रिहाई गयी  negative\n",
       "3  यूपी बड़े स्तर दंगे करवा सकती बीजेपी मुलायम सि...  negative\n",
       "4  अंग्रेजी आती इसलिए हिन्दी ट्विट ज्यादा हूँ । न...  negative"
      ]
     },
     "execution_count": 23,
     "metadata": {},
     "output_type": "execute_result"
    }
   ],
   "source": [
    "stop_words = [\"अंदर\",\"अत\",\"अदि\",\"अप\",\"अपना\",\"अपनि\",\"अपनी\",\"अपने\",\"अभि\",\"अभी\",\"आदि\",\"आप\",\"इंहिं\",\"इंहें\",\"इंहों\",\"इतयादि\",\"इत्यादि\",\"इन\",\n",
    "              \"इनका\",\"इन्हीं\",\"इन्हें\",\"इन्हों\",\"इस\",\"इसका\",\n",
    "              \"काफि\",\"काफ़ी\",\"कि\",\"किंहें\",\"किंहों\",\"कितना\",\"किन्हें\",\"किन्हों\",\"किया\",\"किर\",\"किस\",\"किसि\",\"किसी\",\"किसे\",\"की\",\"कुछ\",\"कुल\",\n",
    "                \"के\",\"को\",\"कोइ\",\"कोई\",\"कोन\",\"कोनसा\",\"कौन\",\"कौनसा\",\"गया\",\"घर\",\"जब\",\"जहाँ\",\"जहां\",\"जा\",\"जिंहें\",\"जिंहों\",\"जितना\",\"जिधर\",\n",
    "                \"जिन\",\"जिन्हें\",\"जिन्हों\",\"जिस\",\"जिसे\",\"जीधर\",\"जेसा\",\"जेसे\",\"जैसा\",\"जैसे\",\"जो\",\"तक\",\"तब\",\"तरह\",\"तिंहें\",\"तिंहों\",\"तिन\",\"तिन्हें\",\n",
    "                \"तिन्हों\",\"तिस\",\"तिसे\",\"तो\",\"था\",\"थि\",\"थी\",\"थे\",\"दबारा\",\"दवारा\",\"दिया\",\"दुसरा\",\"दुसरे\",\"दूसरे\",\"दो\",\"द्वारा\",\"न\",\"नहिं\",\"नहीं\",\n",
    "                \"ना\",\"निचे\",\"निहायत\",\"नीचे\",\"ने\",\"पर\",\"पहले\",\"पुरा\",\"पूरा\",\"पे\",\"फिर\",\"बनि\",\"बनी\",\"बहि\",\"बही\",\"बहुत\",\"बाद\",\"बाला\",\n",
    "                \"बिलकुल\",\"भि\",\"भितर\",\"भी\",\"भीतर\",\"मगर\",\"मानो\",\"मे\",\"में\",\"यदि\",\"यह\",\"यहाँ\",\"यहां\",\"यहि\",\"यही\",\"या\",\"यिह\",\"ये\",\"रखें\",\n",
    "                \"रवासा\",\"रहा\",\"रहे\",\"ऱ्वासा\",\"लिए\",\"लिये\",\"लेकिन\",\"व\",\"वगेरह\",\"वरग\",\"वर्ग\",\"वह\",\"वहाँ\",\"वहां\",\"वहिं\",\"वहीं\",\"वाले\",\"वुह\",\"वे\",\n",
    "              \"इसकि\",\"इसकी\",\"इसके\",\"इसमें\",\"इसि\",\"इसी\",\"इसे\",\"उंहिं\",\"उंहें\",\"उंहों\",\"उन\",\"उनका\",\"उनकि\",\"उनकी\",\"उनके\",\"उनको\",\"उन्हीं\",\n",
    "              \"उन्हें\",\"उन्हों\",\"उस\",\"उसके\",\"उसि\",\"उसी\",\n",
    "              \"उसे\",\"एक\",\"एवं\",\"एस\",\"एसे\",\"ऐसे\",\"ओर\",\"और\",\"कइ\",\"कई\",\"कर\",\"करता\",\"करते\",\"करना\",\"करने\",\"करें\",\"कहते\",\"कहा\",\"का\",\n",
    "                    \"वग़ैरह\",\"संग\",\"सकता\",\"सकते\",\"सबसे\",\"सभि\",\"सभी\",\"साथ\",\"साबुत\",\"साभ\",\"सारा\",\"से\",\"सो\",\"हि\",\"ही\",\"हुअ\",\"हुआ\",\"हुइ\",\"हुई\",\n",
    "                    \"हुए\",\"हे\",\"हें\",\"है\",\"हैं\",\"हो\",\"होता\",\"होति\",\"होती\",\"होते\",\"होना\",\"होने\"]\n",
    "tokenized = hindi_data['hindi_text'].apply(lambda x: x.split())\n",
    "tokenized_processed = tokenized.apply(lambda x: [item for item in x if item not in stop_words])\n",
    "\n",
    "processed_txt = []\n",
    "for i in range(len(hindi_data)): \n",
    "    txt = ' '.join(tokenized_processed[i]) \n",
    "    processed_txt.append(txt) \n",
    "hindi_data['hindi_text'] = processed_txt\n",
    "\n",
    "hindi_data.head()"
   ]
  },
  {
   "cell_type": "code",
   "execution_count": 24,
   "id": "6f6dfa77",
   "metadata": {},
   "outputs": [
    {
     "data": {
      "text/plain": [
       "positive    3254\n",
       "negative    3174\n",
       "neutral     2649\n",
       "Name: label, dtype: int64"
      ]
     },
     "execution_count": 24,
     "metadata": {},
     "output_type": "execute_result"
    }
   ],
   "source": [
    "hindi_data['label'].value_counts()"
   ]
  },
  {
   "cell_type": "code",
   "execution_count": 25,
   "id": "550a493a",
   "metadata": {},
   "outputs": [
    {
     "data": {
      "text/html": [
       "<div>\n",
       "<style scoped>\n",
       "    .dataframe tbody tr th:only-of-type {\n",
       "        vertical-align: middle;\n",
       "    }\n",
       "\n",
       "    .dataframe tbody tr th {\n",
       "        vertical-align: top;\n",
       "    }\n",
       "\n",
       "    .dataframe thead th {\n",
       "        text-align: right;\n",
       "    }\n",
       "</style>\n",
       "<table border=\"1\" class=\"dataframe\">\n",
       "  <thead>\n",
       "    <tr style=\"text-align: right;\">\n",
       "      <th></th>\n",
       "      <th>hindi_text</th>\n",
       "      <th>label</th>\n",
       "    </tr>\n",
       "  </thead>\n",
       "  <tbody>\n",
       "    <tr>\n",
       "      <th>1</th>\n",
       "      <td>गुमनाम वतन मिटने लोग आतन्कवादियों मिलकर मशहूर गये</td>\n",
       "      <td>negative</td>\n",
       "    </tr>\n",
       "    <tr>\n",
       "      <th>2</th>\n",
       "      <td>ज़ंजीर बदली रही मैं समझा रिहाई गयी</td>\n",
       "      <td>negative</td>\n",
       "    </tr>\n",
       "    <tr>\n",
       "      <th>3</th>\n",
       "      <td>यूपी बड़े स्तर दंगे करवा सकती बीजेपी मुलायम सि...</td>\n",
       "      <td>negative</td>\n",
       "    </tr>\n",
       "    <tr>\n",
       "      <th>4</th>\n",
       "      <td>अंग्रेजी आती इसलिए हिन्दी ट्विट ज्यादा हूँ । न...</td>\n",
       "      <td>negative</td>\n",
       "    </tr>\n",
       "    <tr>\n",
       "      <th>5</th>\n",
       "      <td>कश्मीर जल जिहाद ।</td>\n",
       "      <td>negative</td>\n",
       "    </tr>\n",
       "    <tr>\n",
       "      <th>...</th>\n",
       "      <td>...</td>\n",
       "      <td>...</td>\n",
       "    </tr>\n",
       "    <tr>\n",
       "      <th>995</th>\n",
       "      <td>नई फिल्म परमाणु स्टार कास्ट इंटरव्यू …</td>\n",
       "      <td>positive</td>\n",
       "    </tr>\n",
       "    <tr>\n",
       "      <th>996</th>\n",
       "      <td>बाबा राम रहीम यानि अहिंसा पाठ पढ़ाते थेक्या सी...</td>\n",
       "      <td>positive</td>\n",
       "    </tr>\n",
       "    <tr>\n",
       "      <th>997</th>\n",
       "      <td>यूपी हावी कल्चर अन्य वीडियो</td>\n",
       "      <td>positive</td>\n",
       "    </tr>\n",
       "    <tr>\n",
       "      <th>998</th>\n",
       "      <td></td>\n",
       "      <td>positive</td>\n",
       "    </tr>\n",
       "    <tr>\n",
       "      <th>999</th>\n",
       "      <td>न्यूज़ एंकर जिंदगी बिना मेकअप वाली कड़वी सच्चा...</td>\n",
       "      <td>positive</td>\n",
       "    </tr>\n",
       "  </tbody>\n",
       "</table>\n",
       "<p>999 rows × 2 columns</p>\n",
       "</div>"
      ],
      "text/plain": [
       "                                            hindi_text     label\n",
       "1    गुमनाम वतन मिटने लोग आतन्कवादियों मिलकर मशहूर गये  negative\n",
       "2                   ज़ंजीर बदली रही मैं समझा रिहाई गयी  negative\n",
       "3    यूपी बड़े स्तर दंगे करवा सकती बीजेपी मुलायम सि...  negative\n",
       "4    अंग्रेजी आती इसलिए हिन्दी ट्विट ज्यादा हूँ । न...  negative\n",
       "5                                    कश्मीर जल जिहाद ।  negative\n",
       "..                                                 ...       ...\n",
       "995             नई फिल्म परमाणु स्टार कास्ट इंटरव्यू …  positive\n",
       "996  बाबा राम रहीम यानि अहिंसा पाठ पढ़ाते थेक्या सी...  positive\n",
       "997                        यूपी हावी कल्चर अन्य वीडियो  positive\n",
       "998                                                     positive\n",
       "999  न्यूज़ एंकर जिंदगी बिना मेकअप वाली कड़वी सच्चा...  positive\n",
       "\n",
       "[999 rows x 2 columns]"
      ]
     },
     "execution_count": 25,
     "metadata": {},
     "output_type": "execute_result"
    }
   ],
   "source": [
    "model_data = hindi_data.copy()\n",
    "model_data.dropna(inplace=True)\n",
    "model_data[1:1000]"
   ]
  },
  {
   "cell_type": "code",
   "execution_count": 27,
   "id": "3c9bdabd",
   "metadata": {
    "scrolled": true
   },
   "outputs": [
    {
     "data": {
      "text/html": [
       "\n",
       "<style>\n",
       "    /* Turns off some styling */\n",
       "    progress {\n",
       "        /* gets rid of default border in Firefox and Opera. */\n",
       "        border: none;\n",
       "        /* Needs to be in here for Safari polyfill so background images work as expected. */\n",
       "        background-size: auto;\n",
       "    }\n",
       "    progress:not([value]), progress:not([value])::-webkit-progress-bar {\n",
       "        background: repeating-linear-gradient(45deg, #7e7e7e, #7e7e7e 10px, #5c5c5c 10px, #5c5c5c 20px);\n",
       "    }\n",
       "    .progress-bar-interrupted, .progress-bar-interrupted::-webkit-progress-bar {\n",
       "        background: #F44336;\n",
       "    }\n",
       "</style>\n"
      ],
      "text/plain": [
       "<IPython.core.display.HTML object>"
      ]
     },
     "metadata": {},
     "output_type": "display_data"
    },
    {
     "data": {
      "text/html": [],
      "text/plain": [
       "<IPython.core.display.HTML object>"
      ]
     },
     "metadata": {},
     "output_type": "display_data"
    },
    {
     "name": "stderr",
     "output_type": "stream",
     "text": [
      "c:\\users\\nihaa\\appdata\\local\\programs\\python\\python39\\lib\\site-packages\\fastai\\core.py:302: VisibleDeprecationWarning: Creating an ndarray from ragged nested sequences (which is a list-or-tuple of lists-or-tuples-or ndarrays with different lengths or shapes) is deprecated. If you meant to do this, you must specify 'dtype=object' when creating the ndarray.\n",
      "  return np.array(a, dtype=dtype, **kwargs)\n"
     ]
    },
    {
     "data": {
      "text/html": [
       "\n",
       "<style>\n",
       "    /* Turns off some styling */\n",
       "    progress {\n",
       "        /* gets rid of default border in Firefox and Opera. */\n",
       "        border: none;\n",
       "        /* Needs to be in here for Safari polyfill so background images work as expected. */\n",
       "        background-size: auto;\n",
       "    }\n",
       "    progress:not([value]), progress:not([value])::-webkit-progress-bar {\n",
       "        background: repeating-linear-gradient(45deg, #7e7e7e, #7e7e7e 10px, #5c5c5c 10px, #5c5c5c 20px);\n",
       "    }\n",
       "    .progress-bar-interrupted, .progress-bar-interrupted::-webkit-progress-bar {\n",
       "        background: #F44336;\n",
       "    }\n",
       "</style>\n"
      ],
      "text/plain": [
       "<IPython.core.display.HTML object>"
      ]
     },
     "metadata": {},
     "output_type": "display_data"
    },
    {
     "data": {
      "text/html": [],
      "text/plain": [
       "<IPython.core.display.HTML object>"
      ]
     },
     "metadata": {},
     "output_type": "display_data"
    }
   ],
   "source": [
    "# Creates a textlist object from the model_data dataframe using the hindi_text column\n",
    "# 10% validation data\n",
    "# Prepares the data for language modeling. In this context, it means creating labels that represent the next word in the sequence.\n",
    "# Creates a DataBunch object, which is a container for the training and validation data. It organizes the data in a format suitable for training a deep learning model.\n",
    "data_lang_model = (TextList.from_df(model_data, cols='hindi_text')\n",
    "                     .split_by_rand_pct(0.1)\n",
    "                     .label_for_lm()\n",
    "                     .databunch())"
   ]
  },
  {
   "cell_type": "code",
   "execution_count": 30,
   "id": "a92f25ec",
   "metadata": {},
   "outputs": [
    {
     "data": {
      "text/html": [
       "\n",
       "<style>\n",
       "    /* Turns off some styling */\n",
       "    progress {\n",
       "        /* gets rid of default border in Firefox and Opera. */\n",
       "        border: none;\n",
       "        /* Needs to be in here for Safari polyfill so background images work as expected. */\n",
       "        background-size: auto;\n",
       "    }\n",
       "    progress:not([value]), progress:not([value])::-webkit-progress-bar {\n",
       "        background: repeating-linear-gradient(45deg, #7e7e7e, #7e7e7e 10px, #5c5c5c 10px, #5c5c5c 20px);\n",
       "    }\n",
       "    .progress-bar-interrupted, .progress-bar-interrupted::-webkit-progress-bar {\n",
       "        background: #F44336;\n",
       "    }\n",
       "</style>\n"
      ],
      "text/plain": [
       "<IPython.core.display.HTML object>"
      ]
     },
     "metadata": {},
     "output_type": "display_data"
    },
    {
     "data": {
      "text/html": [],
      "text/plain": [
       "<IPython.core.display.HTML object>"
      ]
     },
     "metadata": {},
     "output_type": "display_data"
    },
    {
     "data": {
      "text/html": [
       "\n",
       "<style>\n",
       "    /* Turns off some styling */\n",
       "    progress {\n",
       "        /* gets rid of default border in Firefox and Opera. */\n",
       "        border: none;\n",
       "        /* Needs to be in here for Safari polyfill so background images work as expected. */\n",
       "        background-size: auto;\n",
       "    }\n",
       "    progress:not([value]), progress:not([value])::-webkit-progress-bar {\n",
       "        background: repeating-linear-gradient(45deg, #7e7e7e, #7e7e7e 10px, #5c5c5c 10px, #5c5c5c 20px);\n",
       "    }\n",
       "    .progress-bar-interrupted, .progress-bar-interrupted::-webkit-progress-bar {\n",
       "        background: #F44336;\n",
       "    }\n",
       "</style>\n"
      ],
      "text/plain": [
       "<IPython.core.display.HTML object>"
      ]
     },
     "metadata": {},
     "output_type": "display_data"
    },
    {
     "data": {
      "text/html": [],
      "text/plain": [
       "<IPython.core.display.HTML object>"
      ]
     },
     "metadata": {},
     "output_type": "display_data"
    }
   ],
   "source": [
    "# Creates a textlist object from the model_data dataframe using the hindi_text column\n",
    "# Use vocabulary from previously created language model (The language model is trained to predict the next word based on the context provided by the preceding words.)\n",
    "# 10% validation data\n",
    "# Prepares the data for classification. It assumes that there is a column named 'label' in the DataFrame (model_data) that contains the class labels for each text example.\n",
    "# Creates a DataBunch object, which is a container for the training and validation data\n",
    "data_lang_class = (TextList.from_df(model_data, cols='hindi_text', vocab=data_lang_model.vocab)\n",
    "                     .split_by_rand_pct(0.1)\n",
    "                     .label_from_df('label')\n",
    "                     .databunch())"
   ]
  },
  {
   "cell_type": "code",
   "execution_count": 31,
   "id": "db706e9f",
   "metadata": {},
   "outputs": [
    {
     "data": {
      "text/html": [
       "<table border=\"1\" class=\"dataframe\">\n",
       "  <thead>\n",
       "    <tr style=\"text-align: right;\">\n",
       "      <th>text</th>\n",
       "      <th>target</th>\n",
       "    </tr>\n",
       "  </thead>\n",
       "  <tbody>\n",
       "    <tr>\n",
       "      <td>xxbos चलते चलते याद रखना तुम्हारे xxunk xxunk कहीं दूर उतार रखना । । ज़िंदगी xxunk सच जान xxunk । । xxunk xxunk इस्लाम । । xxunk xxunk</td>\n",
       "      <td>negative</td>\n",
       "    </tr>\n",
       "    <tr>\n",
       "      <td>xxbos क्राइम ब्रांच xxunk पेपर लीक जुड़े केस चार लोगों अरेस्ट है । आरोपियों पहचान xxunk शर्मा xxunk राव कुशल ने …</td>\n",
       "      <td>neutral</td>\n",
       "    </tr>\n",
       "    <tr>\n",
       "      <td>xxbos बेटा बाप पैसे दिखा पाकिस्तान अगर बाढ़ आ जाए xxunk xxunk भागने जगह है । साला मदद करेगा गद्दार xxunk ।</td>\n",
       "      <td>negative</td>\n",
       "    </tr>\n",
       "    <tr>\n",
       "      <td>xxbos नज़र आता डर डर तेरे xxunk अम्मा आना मुझे इतने बुरे xxunk अम्मा xxunk xxunk आई हूँ मुझको लौटा दे …</td>\n",
       "      <td>neutral</td>\n",
       "    </tr>\n",
       "  </tbody>\n",
       "</table>"
      ],
      "text/plain": [
       "<IPython.core.display.HTML object>"
      ]
     },
     "metadata": {},
     "output_type": "display_data"
    }
   ],
   "source": [
    "# special tokens used in the fastai library's tokenization process\n",
    "data_lang_class.show_batch(4)"
   ]
  },
  {
   "cell_type": "code",
   "execution_count": 32,
   "id": "9e9c20e4",
   "metadata": {},
   "outputs": [
    {
     "data": {
      "text/html": [
       "<table border=\"1\" class=\"dataframe\">\n",
       "  <thead>\n",
       "    <tr style=\"text-align: right;\">\n",
       "      <th>idx</th>\n",
       "      <th>text</th>\n",
       "    </tr>\n",
       "  </thead>\n",
       "  <tbody>\n",
       "    <tr>\n",
       "      <td>0</td>\n",
       "      <td>xxunk हिंदुस्तान पुलिस xxunk माना जाएगा हिंदुस्तान पुलिस xxunk नहीँ चाहिए भारत xxbos संघर्ष आदमी अकेला सफलता दुनिया xxunk xxunk नया इतिहास रचा है । xxbos मोहब्बत xxunk xxbos तीखी बात राम xxunk xxunk इल्जाम लगा दिए xxunk संस्था इल्जाम नही xxunk इतनी जिंदगी देखने आदमी xxunk xxbos मुलाकात जरूरी xxunk । एक उम्र कैद हूँ आँसू । । xxbos माओवादियों संपत्ति होगी कुर्क xxbos अगर मुलायम अखिलेश xxunk दंगा</td>\n",
       "    </tr>\n",
       "    <tr>\n",
       "      <td>1</td>\n",
       "      <td>xxunk पड़ती xxbos हमारा प्यार उन्हे प्यार बस हार गये हम जानकार जिससे उन्हे प्यार वो हमारा यार … xxbos xxunk तेल xxunk तलवार खत्म होगा xxunk xxunk गैस xxunk xxbos इस्लाम शांति भाईचारा xxunk इसलिये मुसलमानों शांति उम्मीद रखना xxunk xxbos xxunk जी चोट बचना मुश्किल नामुमकिन xxunk देते । xxbos xxunk xxunk दे गुरु सम्मान xxunk खुद xxbos सलमान खान हवाई xxunk xxunk खबर xxunk वालों xxunk माहौल</td>\n",
       "    </tr>\n",
       "    <tr>\n",
       "      <td>2</td>\n",
       "      <td>मौसम अच्छा ऐसी xxunk बात xxunk मेरे पैर जमीन पत्नी xxunk फांसी लगा लो xxbos उन्होंने xxunk बच्चों xxunk देने xxunk अरब xxunk करोड़ xxunk खर्च दिए बिजली xxbos कश्मीर तबाही सात दिन बाढ़ तीन मंत्री लापता xxunk xxunk बैठे लोग दैनिक भास्कर xxbos मेरे मरने xxunk xxunk पड़ेगा ऐ दोस्त बस xxunk xxunk मेरा हम xxunk चला xxbos करोड़ मैच फिक्सिंग लेकर मीडिया पुलिस दिन इतने परेशान कोयला xxunk</td>\n",
       "    </tr>\n",
       "    <tr>\n",
       "      <td>3</td>\n",
       "      <td>xxbos xxwrep xxunk हा xxunk xxunk लेना वाह धोनी वाह xxbos आखिरी ओवर आखिरी गेंद रन बना हीरो बनने चक्कर घमंडी धोनी जीता xxunk भारत हरा xxbos xxunk xxunk आज योगी जी लोगो xxunk बाप बेटे सरकार xxunk फेंकने xxunk लिया xxunk बाबा xxunk xxbos पास नेपाल देने करोड़ &amp; भूटान करोड़ दिल्ली इलेक्शन करोड़ xxbos भारत इस्लामिक राज कायम करेगा अल xxunk xxunk छुपे xxunk हाथ xxunk xxunk बोतल</td>\n",
       "    </tr>\n",
       "  </tbody>\n",
       "</table>"
      ],
      "text/plain": [
       "<IPython.core.display.HTML object>"
      ]
     },
     "metadata": {},
     "output_type": "display_data"
    }
   ],
   "source": [
    "# special tokens used in the fastai library's tokenization process\n",
    "data_lang_model.show_batch(4)"
   ]
  },
  {
   "cell_type": "code",
   "execution_count": 33,
   "id": "bcfd0e3e",
   "metadata": {},
   "outputs": [
    {
     "data": {
      "text/plain": [
       "['xxunk',\n",
       " 'xxpad',\n",
       " 'xxbos',\n",
       " 'xxeos',\n",
       " 'xxfld',\n",
       " 'xxmaj',\n",
       " 'xxup',\n",
       " 'xxrep',\n",
       " 'xxwrep',\n",
       " '।']"
      ]
     },
     "execution_count": 33,
     "metadata": {},
     "output_type": "execute_result"
    }
   ],
   "source": [
    "# accessing the vocabulary of the language model's DataBunch object \n",
    "data_lang_model.vocab.itos[:10]"
   ]
  },
  {
   "cell_type": "code",
   "execution_count": 34,
   "id": "61175fa6",
   "metadata": {},
   "outputs": [],
   "source": [
    "data_lang_model.save('models/data_lang_model_v2.pkl')"
   ]
  },
  {
   "cell_type": "markdown",
   "id": "3940024e",
   "metadata": {},
   "source": [
    "## Fine Tuning Language Model"
   ]
  },
  {
   "cell_type": "code",
   "execution_count": 35,
   "id": "98dedbff",
   "metadata": {},
   "outputs": [],
   "source": [
    "# Set up a language model learner with AWD_LSTM architecture (RNN)\n",
    "# Load pre-trained weights from the hindi_pretrained_lm.pth file\n",
    "# Prepare the model for training on the provided DataBunch object\n",
    "# Dropout regularization set to 0.5\n",
    "learn_model = language_model_learner(data_lang_model, AWD_LSTM, pretrained=\"hindi_pretrained_lm.pth\", drop_mult=0.5)"
   ]
  },
  {
   "cell_type": "code",
   "execution_count": 36,
   "id": "d616df2e",
   "metadata": {},
   "outputs": [
    {
     "data": {
      "text/html": [
       "\n",
       "<style>\n",
       "    /* Turns off some styling */\n",
       "    progress {\n",
       "        /* gets rid of default border in Firefox and Opera. */\n",
       "        border: none;\n",
       "        /* Needs to be in here for Safari polyfill so background images work as expected. */\n",
       "        background-size: auto;\n",
       "    }\n",
       "    progress:not([value]), progress:not([value])::-webkit-progress-bar {\n",
       "        background: repeating-linear-gradient(45deg, #7e7e7e, #7e7e7e 10px, #5c5c5c 10px, #5c5c5c 20px);\n",
       "    }\n",
       "    .progress-bar-interrupted, .progress-bar-interrupted::-webkit-progress-bar {\n",
       "        background: #F44336;\n",
       "    }\n",
       "</style>\n"
      ],
      "text/plain": [
       "<IPython.core.display.HTML object>"
      ]
     },
     "metadata": {},
     "output_type": "display_data"
    },
    {
     "data": {
      "text/html": [
       "\n",
       "    <div>\n",
       "      <progress value='5' class='' max='6' style='width:300px; height:20px; vertical-align: middle;'></progress>\n",
       "      83.33% [5/6 03:18&lt;00:39]\n",
       "    </div>\n",
       "    \n",
       "<table border=\"1\" class=\"dataframe\">\n",
       "  <thead>\n",
       "    <tr style=\"text-align: left;\">\n",
       "      <th>epoch</th>\n",
       "      <th>train_loss</th>\n",
       "      <th>valid_loss</th>\n",
       "      <th>accuracy</th>\n",
       "      <th>time</th>\n",
       "    </tr>\n",
       "  </thead>\n",
       "  <tbody>\n",
       "    <tr>\n",
       "      <td>0</td>\n",
       "      <td>9.773520</td>\n",
       "      <td>#na#</td>\n",
       "      <td>00:39</td>\n",
       "    </tr>\n",
       "    <tr>\n",
       "      <td>1</td>\n",
       "      <td>9.886386</td>\n",
       "      <td>#na#</td>\n",
       "      <td>00:42</td>\n",
       "    </tr>\n",
       "    <tr>\n",
       "      <td>2</td>\n",
       "      <td>9.683702</td>\n",
       "      <td>#na#</td>\n",
       "      <td>00:38</td>\n",
       "    </tr>\n",
       "    <tr>\n",
       "      <td>3</td>\n",
       "      <td>8.641500</td>\n",
       "      <td>#na#</td>\n",
       "      <td>00:38</td>\n",
       "    </tr>\n",
       "    <tr>\n",
       "      <td>4</td>\n",
       "      <td>8.095037</td>\n",
       "      <td>#na#</td>\n",
       "      <td>00:39</td>\n",
       "    </tr>\n",
       "  </tbody>\n",
       "</table><p>\n",
       "\n",
       "    <div>\n",
       "      <progress value='4' class='' max='19' style='width:300px; height:20px; vertical-align: middle;'></progress>\n",
       "      21.05% [4/19 00:09&lt;00:36 8.9697]\n",
       "    </div>\n",
       "    "
      ],
      "text/plain": [
       "<IPython.core.display.HTML object>"
      ]
     },
     "metadata": {},
     "output_type": "display_data"
    },
    {
     "name": "stdout",
     "output_type": "stream",
     "text": [
      "LR Finder is complete, type {learner_name}.recorder.plot() to see the graph.\n"
     ]
    }
   ],
   "source": [
    "# find an appropriate learning rate for training the language model by running a short training session\n",
    "learn_model.lr_find()"
   ]
  },
  {
   "cell_type": "code",
   "execution_count": 37,
   "id": "d377bf61",
   "metadata": {},
   "outputs": [
    {
     "data": {
      "image/png": "[encoded data removed]",
      "text/plain": [
       "<Figure size 432x288 with 1 Axes>"
      ]
     },
     "metadata": {
      "needs_background": "light"
     },
     "output_type": "display_data"
    }
   ],
   "source": [
    "learn_model.recorder.plot()"
   ]
  },
  {
   "cell_type": "code",
   "execution_count": 38,
   "id": "781ec3cf",
   "metadata": {},
   "outputs": [
    {
     "data": {
      "text/html": [
       "\n",
       "<style>\n",
       "    /* Turns off some styling */\n",
       "    progress {\n",
       "        /* gets rid of default border in Firefox and Opera. */\n",
       "        border: none;\n",
       "        /* Needs to be in here for Safari polyfill so background images work as expected. */\n",
       "        background-size: auto;\n",
       "    }\n",
       "    progress:not([value]), progress:not([value])::-webkit-progress-bar {\n",
       "        background: repeating-linear-gradient(45deg, #7e7e7e, #7e7e7e 10px, #5c5c5c 10px, #5c5c5c 20px);\n",
       "    }\n",
       "    .progress-bar-interrupted, .progress-bar-interrupted::-webkit-progress-bar {\n",
       "        background: #F44336;\n",
       "    }\n",
       "</style>\n"
      ],
      "text/plain": [
       "<IPython.core.display.HTML object>"
      ]
     },
     "metadata": {},
     "output_type": "display_data"
    },
    {
     "data": {
      "text/html": [
       "<table border=\"1\" class=\"dataframe\">\n",
       "  <thead>\n",
       "    <tr style=\"text-align: left;\">\n",
       "      <th>epoch</th>\n",
       "      <th>train_loss</th>\n",
       "      <th>valid_loss</th>\n",
       "      <th>accuracy</th>\n",
       "      <th>time</th>\n",
       "    </tr>\n",
       "  </thead>\n",
       "  <tbody>\n",
       "    <tr>\n",
       "      <td>0</td>\n",
       "      <td>7.128752</td>\n",
       "      <td>5.859288</td>\n",
       "      <td>0.250744</td>\n",
       "      <td>00:41</td>\n",
       "    </tr>\n",
       "  </tbody>\n",
       "</table>"
      ],
      "text/plain": [
       "<IPython.core.display.HTML object>"
      ]
     },
     "metadata": {},
     "output_type": "display_data"
    }
   ],
   "source": [
    "# 1 one cycle of learning rate adjustment.\n",
    "# 3e-02 maximum learning rate during the cycle.\n",
    "# Momentum values for the optimizer. Accelerates the training process by giving more weight to recent gradients. \n",
    "# Here, (0.8, 0.7) means that the momentum will start at 0.8 and gradually decrease to 0.7 during the cycle.\n",
    "learn_model.fit_one_cycle(1, 3e-02, moms=(0.8, 0.7))"
   ]
  },
  {
   "cell_type": "code",
   "execution_count": 39,
   "id": "bf32cfbd",
   "metadata": {},
   "outputs": [
    {
     "data": {
      "text/html": [
       "\n",
       "<style>\n",
       "    /* Turns off some styling */\n",
       "    progress {\n",
       "        /* gets rid of default border in Firefox and Opera. */\n",
       "        border: none;\n",
       "        /* Needs to be in here for Safari polyfill so background images work as expected. */\n",
       "        background-size: auto;\n",
       "    }\n",
       "    progress:not([value]), progress:not([value])::-webkit-progress-bar {\n",
       "        background: repeating-linear-gradient(45deg, #7e7e7e, #7e7e7e 10px, #5c5c5c 10px, #5c5c5c 20px);\n",
       "    }\n",
       "    .progress-bar-interrupted, .progress-bar-interrupted::-webkit-progress-bar {\n",
       "        background: #F44336;\n",
       "    }\n",
       "</style>\n"
      ],
      "text/plain": [
       "<IPython.core.display.HTML object>"
      ]
     },
     "metadata": {},
     "output_type": "display_data"
    },
    {
     "data": {
      "text/html": [
       "\n",
       "    <div>\n",
       "      <progress value='5' class='' max='6' style='width:300px; height:20px; vertical-align: middle;'></progress>\n",
       "      83.33% [5/6 15:54&lt;03:10]\n",
       "    </div>\n",
       "    \n",
       "<table border=\"1\" class=\"dataframe\">\n",
       "  <thead>\n",
       "    <tr style=\"text-align: left;\">\n",
       "      <th>epoch</th>\n",
       "      <th>train_loss</th>\n",
       "      <th>valid_loss</th>\n",
       "      <th>accuracy</th>\n",
       "      <th>time</th>\n",
       "    </tr>\n",
       "  </thead>\n",
       "  <tbody>\n",
       "    <tr>\n",
       "      <td>0</td>\n",
       "      <td>6.178052</td>\n",
       "      <td>#na#</td>\n",
       "      <td>00:43</td>\n",
       "    </tr>\n",
       "    <tr>\n",
       "      <td>1</td>\n",
       "      <td>6.154402</td>\n",
       "      <td>#na#</td>\n",
       "      <td>00:44</td>\n",
       "    </tr>\n",
       "    <tr>\n",
       "      <td>2</td>\n",
       "      <td>6.105828</td>\n",
       "      <td>#na#</td>\n",
       "      <td>00:41</td>\n",
       "    </tr>\n",
       "    <tr>\n",
       "      <td>3</td>\n",
       "      <td>6.365261</td>\n",
       "      <td>#na#</td>\n",
       "      <td>01:48</td>\n",
       "    </tr>\n",
       "    <tr>\n",
       "      <td>4</td>\n",
       "      <td>9.861032</td>\n",
       "      <td>#na#</td>\n",
       "      <td>11:56</td>\n",
       "    </tr>\n",
       "  </tbody>\n",
       "</table><p>\n",
       "\n",
       "    <div>\n",
       "      <progress value='4' class='' max='19' style='width:300px; height:20px; vertical-align: middle;'></progress>\n",
       "      21.05% [4/19 01:01&lt;03:50 15.7332]\n",
       "    </div>\n",
       "    "
      ],
      "text/plain": [
       "<IPython.core.display.HTML object>"
      ]
     },
     "metadata": {},
     "output_type": "display_data"
    },
    {
     "name": "stdout",
     "output_type": "stream",
     "text": [
      "LR Finder is complete, type {learner_name}.recorder.plot() to see the graph.\n"
     ]
    }
   ],
   "source": [
    "# Unfreeze the pre-trained layers of the language model\n",
    "learn_model.unfreeze()\n",
    "learn_model.lr_find()"
   ]
  },
  {
   "cell_type": "code",
   "execution_count": 40,
   "id": "8a9f8e81",
   "metadata": {},
   "outputs": [
    {
     "data": {
      "image/png": "[encoded data removed]",
      "text/plain": [
       "<Figure size 432x288 with 1 Axes>"
      ]
     },
     "metadata": {
      "needs_background": "light"
     },
     "output_type": "display_data"
    }
   ],
   "source": [
    "# Skip the last few points of the plot which could be noisy\n",
    "learn_model.recorder.plot(skip_end=15)"
   ]
  },
  {
   "cell_type": "code",
   "execution_count": 41,
   "id": "11d5215a",
   "metadata": {},
   "outputs": [
    {
     "data": {
      "text/html": [
       "\n",
       "<style>\n",
       "    /* Turns off some styling */\n",
       "    progress {\n",
       "        /* gets rid of default border in Firefox and Opera. */\n",
       "        border: none;\n",
       "        /* Needs to be in here for Safari polyfill so background images work as expected. */\n",
       "        background-size: auto;\n",
       "    }\n",
       "    progress:not([value]), progress:not([value])::-webkit-progress-bar {\n",
       "        background: repeating-linear-gradient(45deg, #7e7e7e, #7e7e7e 10px, #5c5c5c 10px, #5c5c5c 20px);\n",
       "    }\n",
       "    .progress-bar-interrupted, .progress-bar-interrupted::-webkit-progress-bar {\n",
       "        background: #F44336;\n",
       "    }\n",
       "</style>\n"
      ],
      "text/plain": [
       "<IPython.core.display.HTML object>"
      ]
     },
     "metadata": {},
     "output_type": "display_data"
    },
    {
     "data": {
      "text/html": [
       "<table border=\"1\" class=\"dataframe\">\n",
       "  <thead>\n",
       "    <tr style=\"text-align: left;\">\n",
       "      <th>epoch</th>\n",
       "      <th>train_loss</th>\n",
       "      <th>valid_loss</th>\n",
       "      <th>accuracy</th>\n",
       "      <th>time</th>\n",
       "    </tr>\n",
       "  </thead>\n",
       "  <tbody>\n",
       "    <tr>\n",
       "      <td>0</td>\n",
       "      <td>6.134583</td>\n",
       "      <td>5.803843</td>\n",
       "      <td>0.268006</td>\n",
       "      <td>00:43</td>\n",
       "    </tr>\n",
       "    <tr>\n",
       "      <td>1</td>\n",
       "      <td>6.101065</td>\n",
       "      <td>5.785074</td>\n",
       "      <td>0.261533</td>\n",
       "      <td>00:44</td>\n",
       "    </tr>\n",
       "    <tr>\n",
       "      <td>2</td>\n",
       "      <td>6.066214</td>\n",
       "      <td>5.732294</td>\n",
       "      <td>0.272396</td>\n",
       "      <td>00:43</td>\n",
       "    </tr>\n",
       "    <tr>\n",
       "      <td>3</td>\n",
       "      <td>6.033957</td>\n",
       "      <td>5.707126</td>\n",
       "      <td>0.271429</td>\n",
       "      <td>00:47</td>\n",
       "    </tr>\n",
       "    <tr>\n",
       "      <td>4</td>\n",
       "      <td>6.003634</td>\n",
       "      <td>5.681494</td>\n",
       "      <td>0.269048</td>\n",
       "      <td>00:46</td>\n",
       "    </tr>\n",
       "    <tr>\n",
       "      <td>5</td>\n",
       "      <td>5.962395</td>\n",
       "      <td>5.664310</td>\n",
       "      <td>0.268676</td>\n",
       "      <td>00:45</td>\n",
       "    </tr>\n",
       "    <tr>\n",
       "      <td>6</td>\n",
       "      <td>5.923277</td>\n",
       "      <td>5.710461</td>\n",
       "      <td>0.279167</td>\n",
       "      <td>00:46</td>\n",
       "    </tr>\n",
       "    <tr>\n",
       "      <td>7</td>\n",
       "      <td>5.883269</td>\n",
       "      <td>5.615135</td>\n",
       "      <td>0.272842</td>\n",
       "      <td>00:44</td>\n",
       "    </tr>\n",
       "    <tr>\n",
       "      <td>8</td>\n",
       "      <td>5.835711</td>\n",
       "      <td>5.613738</td>\n",
       "      <td>0.281027</td>\n",
       "      <td>00:48</td>\n",
       "    </tr>\n",
       "    <tr>\n",
       "      <td>9</td>\n",
       "      <td>5.784202</td>\n",
       "      <td>5.582701</td>\n",
       "      <td>0.275967</td>\n",
       "      <td>00:49</td>\n",
       "    </tr>\n",
       "    <tr>\n",
       "      <td>10</td>\n",
       "      <td>5.722939</td>\n",
       "      <td>5.525682</td>\n",
       "      <td>0.281622</td>\n",
       "      <td>00:49</td>\n",
       "    </tr>\n",
       "    <tr>\n",
       "      <td>11</td>\n",
       "      <td>5.664972</td>\n",
       "      <td>5.525239</td>\n",
       "      <td>0.278943</td>\n",
       "      <td>00:50</td>\n",
       "    </tr>\n",
       "    <tr>\n",
       "      <td>12</td>\n",
       "      <td>5.610823</td>\n",
       "      <td>5.492972</td>\n",
       "      <td>0.284524</td>\n",
       "      <td>00:50</td>\n",
       "    </tr>\n",
       "    <tr>\n",
       "      <td>13</td>\n",
       "      <td>5.563424</td>\n",
       "      <td>5.477812</td>\n",
       "      <td>0.284673</td>\n",
       "      <td>00:47</td>\n",
       "    </tr>\n",
       "    <tr>\n",
       "      <td>14</td>\n",
       "      <td>5.519473</td>\n",
       "      <td>5.473325</td>\n",
       "      <td>0.283036</td>\n",
       "      <td>00:45</td>\n",
       "    </tr>\n",
       "    <tr>\n",
       "      <td>15</td>\n",
       "      <td>5.482434</td>\n",
       "      <td>5.464080</td>\n",
       "      <td>0.285789</td>\n",
       "      <td>00:48</td>\n",
       "    </tr>\n",
       "    <tr>\n",
       "      <td>16</td>\n",
       "      <td>5.450655</td>\n",
       "      <td>5.456354</td>\n",
       "      <td>0.287351</td>\n",
       "      <td>00:49</td>\n",
       "    </tr>\n",
       "    <tr>\n",
       "      <td>17</td>\n",
       "      <td>5.425196</td>\n",
       "      <td>5.454811</td>\n",
       "      <td>0.286682</td>\n",
       "      <td>00:48</td>\n",
       "    </tr>\n",
       "    <tr>\n",
       "      <td>18</td>\n",
       "      <td>5.404751</td>\n",
       "      <td>5.451916</td>\n",
       "      <td>0.287128</td>\n",
       "      <td>00:50</td>\n",
       "    </tr>\n",
       "    <tr>\n",
       "      <td>19</td>\n",
       "      <td>5.389090</td>\n",
       "      <td>5.454505</td>\n",
       "      <td>0.286756</td>\n",
       "      <td>00:50</td>\n",
       "    </tr>\n",
       "  </tbody>\n",
       "</table>"
      ],
      "text/plain": [
       "<IPython.core.display.HTML object>"
      ]
     },
     "metadata": {},
     "output_type": "display_data"
    }
   ],
   "source": [
    "# 20 epochs of training\n",
    "learn_model.fit_one_cycle(20, 3e-04, moms=(0.8, 0.7))"
   ]
  },
  {
   "cell_type": "code",
   "execution_count": 42,
   "id": "94e40d62",
   "metadata": {},
   "outputs": [
    {
     "name": "stdout",
     "output_type": "stream",
     "text": [
      "भारत अब शोभा मिलेंगे है । xxbos अगर मौसम बार भारी बीच कहानी मदद xxbos मोदी हमें मोदी मोदी दिन साल मोदी पुलिस जनता अन्य वीडियो xxbos दिल्ली नोएडा मामले इलाके\n",
      "भारत दोनों महाराष्ट्र मोदी लोगों मोदी मोदी मोदी लोगों बजे xxbos दिल्ली साल शास्त्री जिम्मेदार बोल xxbos दिल्ली निगम निगम सिर्फ मामले अच्छे रही सरकार अन्य वीडियो … xxbos उन्होंने भारत\n",
      "भारत कलाकारों देश समय सिंह देखिए नीरव देखिए कार्यक्रम … xxbos दिल्ली क्या क्या xxbos पिछले बच्चों बेहद खतरा xxbos चुनाव सरकार गांधी सरकार क्या मोदी ओम बोले … xxbos दिल्ली\n",
      "भारत पटेल शर्मसार बच्चे xxbos फिल्म इतना लो xxbos दिल्ली अब इलाके डायरेक्टर इलाके इलाके पुलिस इलाके पुलिस इलाके पुलिस पुलिस पुलिस पुलिस पुलिस पुलिस पुलिस पुलिस … xxbos पुलिस आने\n",
      "भारत आज अब हम बोल बजे xxbos ‘ ’ ‘ ‘ ‘ ’ ‘ ‘ ‘ ‘ ’ ‘ ‘ ‘ ‘ ‘ ‘ ‘ ‘ ‘ ‘ ‘ ‘ ‘\n"
     ]
    }
   ],
   "source": [
    "# Generate text using pre-trained language model\n",
    "initial_word = \"भारत\"\n",
    "total_words = 30\n",
    "total_sentences = 5\n",
    "\n",
    "print(\"\\n\".join(learn_model.predict(initial_word, total_words, temperature = 0.5) for _ in range(total_sentences)))"
   ]
  },
  {
   "cell_type": "code",
   "execution_count": 43,
   "id": "bc2fe0c9",
   "metadata": {},
   "outputs": [],
   "source": [
    "learn_model.export(\"models/hindi_lang_model_v2.pkl\")"
   ]
  },
  {
   "cell_type": "code",
   "execution_count": 44,
   "id": "7b39ad50",
   "metadata": {},
   "outputs": [],
   "source": [
    "learn_model.save_encoder('tuned_encoder_10000_v2')"
   ]
  },
  {
   "cell_type": "markdown",
   "id": "3fb39f82",
   "metadata": {},
   "source": [
    "# Training Sentiment Analysis Model (Transfer Learning)"
   ]
  },
  {
   "cell_type": "code",
   "execution_count": 45,
   "id": "ba376f47",
   "metadata": {},
   "outputs": [
    {
     "data": {
      "text/plain": [
       "RNNLearner(data=TextClasDataBunch;\n",
       "\n",
       "Train: LabelList (8170 items)\n",
       "x: TextList\n",
       "xxbos लोग वतन खा जाते यकीन xxunk जाएगा तू ले जाकर दिल्ली दिखा ला दोस्त,xxbos गुमनाम वतन xxunk लोग xxunk मिलकर मशहूर गये,xxbos xxunk बदली रही मैं समझा रिहाई गयी,xxbos यूपी बड़े स्तर दंगे करवा सकती बीजेपी मुलायम सिंह यादव,xxbos अंग्रेजी आती इसलिए हिन्दी xxunk ज्यादा हूँ । निजी राय बुरा लगे xxunk\n",
       "y: CategoryList\n",
       "negative,negative,negative,negative,negative\n",
       "Path: .;\n",
       "\n",
       "Valid: LabelList (907 items)\n",
       "x: TextList\n",
       "xxbos नोएडा संदिग्ध आतंकवादी गिरफ्तार किए गए xxunk बंगाल पुलिस यूपी xxunk संयुक्त एक्शन दोनो आतंकी xxunk …,xxbos उदारीकरण ऐसा पहला चुनाव जिसमें देश xxunk आर्थिक विकास बीच चुनावी समर अग्रसर है ।,xxbos सच्चाई xxunk आसान दुनिया भर xxunk पड़ता,xxbos xxunk अलग xxunk बिजली xxunk लगे xxunk लग है ।,xxbos …\n",
       "y: CategoryList\n",
       "neutral,positive,negative,negative,positive\n",
       "Path: .;\n",
       "\n",
       "Test: None, model=SequentialRNN(\n",
       "  (0): MultiBatchEncoder(\n",
       "    (module): AWD_LSTM(\n",
       "      (encoder): Embedding(4832, 400, padding_idx=1)\n",
       "      (encoder_dp): EmbeddingDropout(\n",
       "        (emb): Embedding(4832, 400, padding_idx=1)\n",
       "      )\n",
       "      (rnns): ModuleList(\n",
       "        (0): WeightDropout(\n",
       "          (module): LSTM(400, 1152, batch_first=True)\n",
       "        )\n",
       "        (1): WeightDropout(\n",
       "          (module): LSTM(1152, 1152, batch_first=True)\n",
       "        )\n",
       "        (2): WeightDropout(\n",
       "          (module): LSTM(1152, 400, batch_first=True)\n",
       "        )\n",
       "      )\n",
       "      (input_dp): RNNDropout()\n",
       "      (hidden_dps): ModuleList(\n",
       "        (0-2): 3 x RNNDropout()\n",
       "      )\n",
       "    )\n",
       "  )\n",
       "  (1): PoolingLinearClassifier(\n",
       "    (layers): Sequential(\n",
       "      (0): BatchNorm1d(1200, eps=1e-05, momentum=0.1, affine=True, track_running_stats=True)\n",
       "      (1): Dropout(p=0.2, inplace=False)\n",
       "      (2): Linear(in_features=1200, out_features=50, bias=True)\n",
       "      (3): ReLU(inplace=True)\n",
       "      (4): BatchNorm1d(50, eps=1e-05, momentum=0.1, affine=True, track_running_stats=True)\n",
       "      (5): Dropout(p=0.1, inplace=False)\n",
       "      (6): Linear(in_features=50, out_features=3, bias=True)\n",
       "    )\n",
       "  )\n",
       "), opt_func=functools.partial(<class 'torch.optim.adam.Adam'>, betas=(0.9, 0.99)), loss_func=FlattenedLoss of CrossEntropyLoss(), metrics=[<function accuracy at 0x0000013ACE0BB5E0>], true_wd=True, bn_wd=True, wd=0.01, train_bn=True, path=WindowsPath('.'), model_dir='models', callback_fns=[functools.partial(<class 'fastai.basic_train.Recorder'>, add_time=True, silent=False)], callbacks=[RNNTrainer\n",
       "learn: ...\n",
       "alpha: 2.0\n",
       "beta: 1.0], layer_groups=[Sequential(\n",
       "  (0): Embedding(4832, 400, padding_idx=1)\n",
       "  (1): EmbeddingDropout(\n",
       "    (emb): Embedding(4832, 400, padding_idx=1)\n",
       "  )\n",
       "), Sequential(\n",
       "  (0): WeightDropout(\n",
       "    (module): LSTM(400, 1152, batch_first=True)\n",
       "  )\n",
       "  (1): RNNDropout()\n",
       "), Sequential(\n",
       "  (0): WeightDropout(\n",
       "    (module): LSTM(1152, 1152, batch_first=True)\n",
       "  )\n",
       "  (1): RNNDropout()\n",
       "), Sequential(\n",
       "  (0): WeightDropout(\n",
       "    (module): LSTM(1152, 400, batch_first=True)\n",
       "  )\n",
       "  (1): RNNDropout()\n",
       "), Sequential(\n",
       "  (0): PoolingLinearClassifier(\n",
       "    (layers): Sequential(\n",
       "      (0): BatchNorm1d(1200, eps=1e-05, momentum=0.1, affine=True, track_running_stats=True)\n",
       "      (1): Dropout(p=0.2, inplace=False)\n",
       "      (2): Linear(in_features=1200, out_features=50, bias=True)\n",
       "      (3): ReLU(inplace=True)\n",
       "      (4): BatchNorm1d(50, eps=1e-05, momentum=0.1, affine=True, track_running_stats=True)\n",
       "      (5): Dropout(p=0.1, inplace=False)\n",
       "      (6): Linear(in_features=50, out_features=3, bias=True)\n",
       "    )\n",
       "  )\n",
       ")], add_time=True, silent=False)"
      ]
     },
     "execution_count": 45,
     "metadata": {},
     "output_type": "execute_result"
    }
   ],
   "source": [
    "# Load a pre-trained language model encoder into the text classification model. Transfer Learning.\n",
    "# ASGD Weight-Dropped LSTM\n",
    "# 0.5 dropout regularization\n",
    "sentiment_model = text_classifier_learner(data_lang_class, AWD_LSTM, drop_mult=0.5)\n",
    "sentiment_model.load_encoder('tuned_encoder_10000_v2')"
   ]
  },
  {
   "cell_type": "code",
   "execution_count": 46,
   "id": "cc7b59c1",
   "metadata": {},
   "outputs": [
    {
     "data": {
      "text/html": [
       "\n",
       "<style>\n",
       "    /* Turns off some styling */\n",
       "    progress {\n",
       "        /* gets rid of default border in Firefox and Opera. */\n",
       "        border: none;\n",
       "        /* Needs to be in here for Safari polyfill so background images work as expected. */\n",
       "        background-size: auto;\n",
       "    }\n",
       "    progress:not([value]), progress:not([value])::-webkit-progress-bar {\n",
       "        background: repeating-linear-gradient(45deg, #7e7e7e, #7e7e7e 10px, #5c5c5c 10px, #5c5c5c 20px);\n",
       "    }\n",
       "    .progress-bar-interrupted, .progress-bar-interrupted::-webkit-progress-bar {\n",
       "        background: #F44336;\n",
       "    }\n",
       "</style>\n"
      ],
      "text/plain": [
       "<IPython.core.display.HTML object>"
      ]
     },
     "metadata": {},
     "output_type": "display_data"
    },
    {
     "data": {
      "text/html": [
       "\n",
       "    <div>\n",
       "      <progress value='0' class='' max='1' style='width:300px; height:20px; vertical-align: middle;'></progress>\n",
       "      0.00% [0/1 00:00&lt;?]\n",
       "    </div>\n",
       "    \n",
       "<table border=\"1\" class=\"dataframe\">\n",
       "  <thead>\n",
       "    <tr style=\"text-align: left;\">\n",
       "      <th>epoch</th>\n",
       "      <th>train_loss</th>\n",
       "      <th>valid_loss</th>\n",
       "      <th>accuracy</th>\n",
       "      <th>time</th>\n",
       "    </tr>\n",
       "  </thead>\n",
       "  <tbody>\n",
       "  </tbody>\n",
       "</table><p>\n",
       "\n",
       "    <div>\n",
       "      <progress value='95' class='' max='127' style='width:300px; height:20px; vertical-align: middle;'></progress>\n",
       "      74.80% [95/127 00:53&lt;00:18 3.5427]\n",
       "    </div>\n",
       "    "
      ],
      "text/plain": [
       "<IPython.core.display.HTML object>"
      ]
     },
     "metadata": {},
     "output_type": "display_data"
    },
    {
     "name": "stdout",
     "output_type": "stream",
     "text": [
      "LR Finder is complete, type {learner_name}.recorder.plot() to see the graph.\n"
     ]
    },
    {
     "data": {
      "image/png": "[encoded data removed]",
      "text/plain": [
       "<Figure size 432x288 with 1 Axes>"
      ]
     },
     "metadata": {
      "needs_background": "light"
     },
     "output_type": "display_data"
    }
   ],
   "source": [
    "# find an appropriate learning rate for training the classifier model by running a short training session\n",
    "sentiment_model.lr_find()\n",
    "sentiment_model.recorder.plot()"
   ]
  },
  {
   "cell_type": "code",
   "execution_count": 47,
   "id": "0d17c0de",
   "metadata": {},
   "outputs": [
    {
     "data": {
      "text/html": [
       "\n",
       "<style>\n",
       "    /* Turns off some styling */\n",
       "    progress {\n",
       "        /* gets rid of default border in Firefox and Opera. */\n",
       "        border: none;\n",
       "        /* Needs to be in here for Safari polyfill so background images work as expected. */\n",
       "        background-size: auto;\n",
       "    }\n",
       "    progress:not([value]), progress:not([value])::-webkit-progress-bar {\n",
       "        background: repeating-linear-gradient(45deg, #7e7e7e, #7e7e7e 10px, #5c5c5c 10px, #5c5c5c 20px);\n",
       "    }\n",
       "    .progress-bar-interrupted, .progress-bar-interrupted::-webkit-progress-bar {\n",
       "        background: #F44336;\n",
       "    }\n",
       "</style>\n"
      ],
      "text/plain": [
       "<IPython.core.display.HTML object>"
      ]
     },
     "metadata": {},
     "output_type": "display_data"
    },
    {
     "data": {
      "text/html": [
       "<table border=\"1\" class=\"dataframe\">\n",
       "  <thead>\n",
       "    <tr style=\"text-align: left;\">\n",
       "      <th>epoch</th>\n",
       "      <th>train_loss</th>\n",
       "      <th>valid_loss</th>\n",
       "      <th>accuracy</th>\n",
       "      <th>time</th>\n",
       "    </tr>\n",
       "  </thead>\n",
       "  <tbody>\n",
       "    <tr>\n",
       "      <td>0</td>\n",
       "      <td>0.914395</td>\n",
       "      <td>0.821906</td>\n",
       "      <td>0.577729</td>\n",
       "      <td>01:42</td>\n",
       "    </tr>\n",
       "  </tbody>\n",
       "</table>"
      ],
      "text/plain": [
       "<IPython.core.display.HTML object>"
      ]
     },
     "metadata": {},
     "output_type": "display_data"
    }
   ],
   "source": [
    "# 1 one cycle of learning rate adjustment.\n",
    "# 3e-03 maximum learning rate during the cycle.\n",
    "sentiment_model.fit_one_cycle(1, 3e-03, moms=(0.8,0.7))"
   ]
  },
  {
   "cell_type": "code",
   "execution_count": 48,
   "id": "6de3acd1",
   "metadata": {},
   "outputs": [
    {
     "data": {
      "text/html": [
       "\n",
       "<style>\n",
       "    /* Turns off some styling */\n",
       "    progress {\n",
       "        /* gets rid of default border in Firefox and Opera. */\n",
       "        border: none;\n",
       "        /* Needs to be in here for Safari polyfill so background images work as expected. */\n",
       "        background-size: auto;\n",
       "    }\n",
       "    progress:not([value]), progress:not([value])::-webkit-progress-bar {\n",
       "        background: repeating-linear-gradient(45deg, #7e7e7e, #7e7e7e 10px, #5c5c5c 10px, #5c5c5c 20px);\n",
       "    }\n",
       "    .progress-bar-interrupted, .progress-bar-interrupted::-webkit-progress-bar {\n",
       "        background: #F44336;\n",
       "    }\n",
       "</style>\n"
      ],
      "text/plain": [
       "<IPython.core.display.HTML object>"
      ]
     },
     "metadata": {},
     "output_type": "display_data"
    },
    {
     "data": {
      "text/html": [
       "<table border=\"1\" class=\"dataframe\">\n",
       "  <thead>\n",
       "    <tr style=\"text-align: left;\">\n",
       "      <th>epoch</th>\n",
       "      <th>train_loss</th>\n",
       "      <th>valid_loss</th>\n",
       "      <th>accuracy</th>\n",
       "      <th>time</th>\n",
       "    </tr>\n",
       "  </thead>\n",
       "  <tbody>\n",
       "    <tr>\n",
       "      <td>0</td>\n",
       "      <td>0.873302</td>\n",
       "      <td>0.791948</td>\n",
       "      <td>0.600882</td>\n",
       "      <td>01:52</td>\n",
       "    </tr>\n",
       "  </tbody>\n",
       "</table>"
      ],
      "text/plain": [
       "<IPython.core.display.HTML object>"
      ]
     },
     "metadata": {},
     "output_type": "display_data"
    }
   ],
   "source": [
    "# Freeze all layers of the model except the last two\n",
    "# Only train the last layers on the specific classification task\n",
    "sentiment_model.freeze_to(-2)\n",
    "# The learning rate starts at 1e-03/(2.6**4), increases to 1e-03 and then decreases again during training.\n",
    "sentiment_model.fit_one_cycle(1, slice(1e-03/(2.6**4),1e-03), moms=(0.8,0.7))"
   ]
  },
  {
   "cell_type": "code",
   "execution_count": 49,
   "id": "f7e0529d",
   "metadata": {},
   "outputs": [
    {
     "data": {
      "text/html": [
       "\n",
       "<style>\n",
       "    /* Turns off some styling */\n",
       "    progress {\n",
       "        /* gets rid of default border in Firefox and Opera. */\n",
       "        border: none;\n",
       "        /* Needs to be in here for Safari polyfill so background images work as expected. */\n",
       "        background-size: auto;\n",
       "    }\n",
       "    progress:not([value]), progress:not([value])::-webkit-progress-bar {\n",
       "        background: repeating-linear-gradient(45deg, #7e7e7e, #7e7e7e 10px, #5c5c5c 10px, #5c5c5c 20px);\n",
       "    }\n",
       "    .progress-bar-interrupted, .progress-bar-interrupted::-webkit-progress-bar {\n",
       "        background: #F44336;\n",
       "    }\n",
       "</style>\n"
      ],
      "text/plain": [
       "<IPython.core.display.HTML object>"
      ]
     },
     "metadata": {},
     "output_type": "display_data"
    },
    {
     "data": {
      "text/html": [
       "<table border=\"1\" class=\"dataframe\">\n",
       "  <thead>\n",
       "    <tr style=\"text-align: left;\">\n",
       "      <th>epoch</th>\n",
       "      <th>train_loss</th>\n",
       "      <th>valid_loss</th>\n",
       "      <th>accuracy</th>\n",
       "      <th>time</th>\n",
       "    </tr>\n",
       "  </thead>\n",
       "  <tbody>\n",
       "    <tr>\n",
       "      <td>0</td>\n",
       "      <td>0.853665</td>\n",
       "      <td>0.789096</td>\n",
       "      <td>0.609702</td>\n",
       "      <td>02:17</td>\n",
       "    </tr>\n",
       "    <tr>\n",
       "      <td>1</td>\n",
       "      <td>0.846031</td>\n",
       "      <td>0.801357</td>\n",
       "      <td>0.605292</td>\n",
       "      <td>02:12</td>\n",
       "    </tr>\n",
       "    <tr>\n",
       "      <td>2</td>\n",
       "      <td>0.819999</td>\n",
       "      <td>0.773208</td>\n",
       "      <td>0.633958</td>\n",
       "      <td>02:13</td>\n",
       "    </tr>\n",
       "    <tr>\n",
       "      <td>3</td>\n",
       "      <td>0.813013</td>\n",
       "      <td>0.785777</td>\n",
       "      <td>0.635061</td>\n",
       "      <td>02:13</td>\n",
       "    </tr>\n",
       "    <tr>\n",
       "      <td>4</td>\n",
       "      <td>0.793502</td>\n",
       "      <td>0.743876</td>\n",
       "      <td>0.622933</td>\n",
       "      <td>02:04</td>\n",
       "    </tr>\n",
       "    <tr>\n",
       "      <td>5</td>\n",
       "      <td>0.763861</td>\n",
       "      <td>0.738212</td>\n",
       "      <td>0.652701</td>\n",
       "      <td>02:07</td>\n",
       "    </tr>\n",
       "    <tr>\n",
       "      <td>6</td>\n",
       "      <td>0.732930</td>\n",
       "      <td>0.719741</td>\n",
       "      <td>0.650496</td>\n",
       "      <td>02:09</td>\n",
       "    </tr>\n",
       "    <tr>\n",
       "      <td>7</td>\n",
       "      <td>0.677530</td>\n",
       "      <td>0.688057</td>\n",
       "      <td>0.684675</td>\n",
       "      <td>02:17</td>\n",
       "    </tr>\n",
       "    <tr>\n",
       "      <td>8</td>\n",
       "      <td>0.658407</td>\n",
       "      <td>0.686190</td>\n",
       "      <td>0.685777</td>\n",
       "      <td>02:16</td>\n",
       "    </tr>\n",
       "    <tr>\n",
       "      <td>9</td>\n",
       "      <td>0.649143</td>\n",
       "      <td>0.681141</td>\n",
       "      <td>0.680265</td>\n",
       "      <td>02:18</td>\n",
       "    </tr>\n",
       "  </tbody>\n",
       "</table>"
      ],
      "text/plain": [
       "<IPython.core.display.HTML object>"
      ]
     },
     "metadata": {},
     "output_type": "display_data"
    }
   ],
   "source": [
    "# Freeze all layers of the model except the last three\n",
    "sentiment_model.freeze_to(-3)\n",
    "# 10 epochs of training\n",
    "sentiment_model.fit_one_cycle(10, slice(5e-03/(2.6**4),5e-03), moms=(0.8,0.7))"
   ]
  },
  {
   "cell_type": "code",
   "execution_count": 50,
   "id": "8c00cc13",
   "metadata": {},
   "outputs": [
    {
     "data": {
      "text/html": [
       "\n",
       "<style>\n",
       "    /* Turns off some styling */\n",
       "    progress {\n",
       "        /* gets rid of default border in Firefox and Opera. */\n",
       "        border: none;\n",
       "        /* Needs to be in here for Safari polyfill so background images work as expected. */\n",
       "        background-size: auto;\n",
       "    }\n",
       "    progress:not([value]), progress:not([value])::-webkit-progress-bar {\n",
       "        background: repeating-linear-gradient(45deg, #7e7e7e, #7e7e7e 10px, #5c5c5c 10px, #5c5c5c 20px);\n",
       "    }\n",
       "    .progress-bar-interrupted, .progress-bar-interrupted::-webkit-progress-bar {\n",
       "        background: #F44336;\n",
       "    }\n",
       "</style>\n"
      ],
      "text/plain": [
       "<IPython.core.display.HTML object>"
      ]
     },
     "metadata": {},
     "output_type": "display_data"
    },
    {
     "data": {
      "text/html": [
       "<table border=\"1\" class=\"dataframe\">\n",
       "  <thead>\n",
       "    <tr style=\"text-align: left;\">\n",
       "      <th>epoch</th>\n",
       "      <th>train_loss</th>\n",
       "      <th>valid_loss</th>\n",
       "      <th>accuracy</th>\n",
       "      <th>time</th>\n",
       "    </tr>\n",
       "  </thead>\n",
       "  <tbody>\n",
       "    <tr>\n",
       "      <td>0</td>\n",
       "      <td>0.633661</td>\n",
       "      <td>0.681162</td>\n",
       "      <td>0.687982</td>\n",
       "      <td>02:29</td>\n",
       "    </tr>\n",
       "    <tr>\n",
       "      <td>1</td>\n",
       "      <td>0.634498</td>\n",
       "      <td>0.676155</td>\n",
       "      <td>0.687982</td>\n",
       "      <td>02:46</td>\n",
       "    </tr>\n",
       "    <tr>\n",
       "      <td>2</td>\n",
       "      <td>0.629193</td>\n",
       "      <td>0.679334</td>\n",
       "      <td>0.686880</td>\n",
       "      <td>02:31</td>\n",
       "    </tr>\n",
       "    <tr>\n",
       "      <td>3</td>\n",
       "      <td>0.615006</td>\n",
       "      <td>0.660731</td>\n",
       "      <td>0.701213</td>\n",
       "      <td>02:35</td>\n",
       "    </tr>\n",
       "    <tr>\n",
       "      <td>4</td>\n",
       "      <td>0.598102</td>\n",
       "      <td>0.657806</td>\n",
       "      <td>0.694598</td>\n",
       "      <td>02:33</td>\n",
       "    </tr>\n",
       "    <tr>\n",
       "      <td>5</td>\n",
       "      <td>0.597239</td>\n",
       "      <td>0.662675</td>\n",
       "      <td>0.702315</td>\n",
       "      <td>02:25</td>\n",
       "    </tr>\n",
       "    <tr>\n",
       "      <td>6</td>\n",
       "      <td>0.579463</td>\n",
       "      <td>0.663533</td>\n",
       "      <td>0.703418</td>\n",
       "      <td>02:21</td>\n",
       "    </tr>\n",
       "    <tr>\n",
       "      <td>7</td>\n",
       "      <td>0.571204</td>\n",
       "      <td>0.655999</td>\n",
       "      <td>0.701213</td>\n",
       "      <td>02:21</td>\n",
       "    </tr>\n",
       "    <tr>\n",
       "      <td>8</td>\n",
       "      <td>0.556904</td>\n",
       "      <td>0.654436</td>\n",
       "      <td>0.703418</td>\n",
       "      <td>02:23</td>\n",
       "    </tr>\n",
       "    <tr>\n",
       "      <td>9</td>\n",
       "      <td>0.556563</td>\n",
       "      <td>0.652869</td>\n",
       "      <td>0.703418</td>\n",
       "      <td>02:24</td>\n",
       "    </tr>\n",
       "  </tbody>\n",
       "</table>"
      ],
      "text/plain": [
       "<IPython.core.display.HTML object>"
      ]
     },
     "metadata": {},
     "output_type": "display_data"
    }
   ],
   "source": [
    "# Unfreeze the pre-trained layers of the model\n",
    "sentiment_model.unfreeze()\n",
    "sentiment_model.fit_one_cycle(10, slice(5e-04/(2.6**4),5e-04), moms=(0.8,0.7))"
   ]
  },
  {
   "cell_type": "code",
   "execution_count": 51,
   "id": "06f843d0",
   "metadata": {},
   "outputs": [],
   "source": [
    "sentiment_model.export(\"sentiment_classifier_hindi_v2.pkl\")"
   ]
  },
  {
   "cell_type": "code",
   "execution_count": 52,
   "id": "c3d6e20e",
   "metadata": {
    "scrolled": true
   },
   "outputs": [
    {
     "data": {
      "text/plain": [
       "(Category tensor(0), tensor(0), tensor([0.4985, 0.2220, 0.2795]))"
      ]
     },
     "execution_count": 52,
     "metadata": {},
     "output_type": "execute_result"
    }
   ],
   "source": [
    "sentiment_model.predict(\"आज़तक पर देखिये कितनी स्मार्ट हुई स्मार्ट फेंसिंग Exclusive आज रात 9.30 pm पर @BSF_India\")"
   ]
  },
  {
   "cell_type": "code",
   "execution_count": 53,
   "id": "ae78336e",
   "metadata": {},
   "outputs": [
    {
     "data": {
      "text/plain": [
       "'negative'"
      ]
     },
     "execution_count": 53,
     "metadata": {},
     "output_type": "execute_result"
    }
   ],
   "source": [
    "str(sentiment_model.predict(\"आज़तक पर देखिये कितनी स्मार्ट हुई स्मार्ट फेंसिंग Exclusive आज रात 9.30 pm पर @BSF_India\")[0])"
   ]
  },
  {
   "cell_type": "code",
   "execution_count": 54,
   "id": "f191b336",
   "metadata": {},
   "outputs": [
    {
     "data": {
      "text/plain": [
       "(Category tensor(0), tensor(0), tensor([0.6839, 0.2473, 0.0688]))"
      ]
     },
     "execution_count": 54,
     "metadata": {},
     "output_type": "execute_result"
    }
   ],
   "source": [
    "sentiment_model.predict(\"Female IAS officer molestation दिल्लीः साकेत कोर्ट परिसर में महिला IAS अधिकारी से छेड़छाड़ https://t.co/MtZhnAfYiV\")"
   ]
  },
  {
   "cell_type": "code",
   "execution_count": 55,
   "id": "05e7b03f",
   "metadata": {},
   "outputs": [
    {
     "data": {
      "text/plain": [
       "'negative'"
      ]
     },
     "execution_count": 55,
     "metadata": {},
     "output_type": "execute_result"
    }
   ],
   "source": [
    "str(sentiment_model.predict(\"Female IAS officer molestation दिल्लीः साकेत कोर्ट परिसर में महिला IAS अधिकारी से छेड़छाड़ https://t.co/MtZhnAfYiV\")[0])"
   ]
  },
  {
   "cell_type": "code",
   "execution_count": 56,
   "id": "3a05de6d",
   "metadata": {},
   "outputs": [
    {
     "data": {
      "text/html": [
       "\n",
       "<style>\n",
       "    /* Turns off some styling */\n",
       "    progress {\n",
       "        /* gets rid of default border in Firefox and Opera. */\n",
       "        border: none;\n",
       "        /* Needs to be in here for Safari polyfill so background images work as expected. */\n",
       "        background-size: auto;\n",
       "    }\n",
       "    progress:not([value]), progress:not([value])::-webkit-progress-bar {\n",
       "        background: repeating-linear-gradient(45deg, #7e7e7e, #7e7e7e 10px, #5c5c5c 10px, #5c5c5c 20px);\n",
       "    }\n",
       "    .progress-bar-interrupted, .progress-bar-interrupted::-webkit-progress-bar {\n",
       "        background: #F44336;\n",
       "    }\n",
       "</style>\n"
      ],
      "text/plain": [
       "<IPython.core.display.HTML object>"
      ]
     },
     "metadata": {},
     "output_type": "display_data"
    },
    {
     "data": {
      "text/html": [],
      "text/plain": [
       "<IPython.core.display.HTML object>"
      ]
     },
     "metadata": {},
     "output_type": "display_data"
    }
   ],
   "source": [
    "predictions, y, losses = sentiment_model.get_preds(with_loss=True)"
   ]
  },
  {
   "cell_type": "code",
   "execution_count": 57,
   "id": "f8d48fa2",
   "metadata": {},
   "outputs": [
    {
     "data": {
      "image/png": "[encoded data removed]",
      "text/plain": [
       "<Figure size 432x288 with 1 Axes>"
      ]
     },
     "metadata": {
      "needs_background": "light"
     },
     "output_type": "display_data"
    }
   ],
   "source": [
    "metrics = ClassificationInterpretation(sentiment_model, predictions, y, losses)\n",
    "metrics.plot_confusion_matrix()"
   ]
  },
  {
   "cell_type": "markdown",
   "id": "301fa891",
   "metadata": {},
   "source": [
    "# Testing Sentiment Analysis Model"
   ]
  },
  {
   "cell_type": "code",
   "execution_count": 58,
   "id": "2a1d5cb5",
   "metadata": {
    "scrolled": true
   },
   "outputs": [
    {
     "data": {
      "text/html": [
       "<div>\n",
       "<style scoped>\n",
       "    .dataframe tbody tr th:only-of-type {\n",
       "        vertical-align: middle;\n",
       "    }\n",
       "\n",
       "    .dataframe tbody tr th {\n",
       "        vertical-align: top;\n",
       "    }\n",
       "\n",
       "    .dataframe thead th {\n",
       "        text-align: right;\n",
       "    }\n",
       "</style>\n",
       "<table border=\"1\" class=\"dataframe\">\n",
       "  <thead>\n",
       "    <tr style=\"text-align: right;\">\n",
       "      <th></th>\n",
       "      <th>hindi_text_1</th>\n",
       "      <th>label_1</th>\n",
       "      <th>hindi_text_2</th>\n",
       "      <th>label_2</th>\n",
       "      <th>hindi_text_3</th>\n",
       "      <th>label_3</th>\n",
       "    </tr>\n",
       "  </thead>\n",
       "  <tbody>\n",
       "    <tr>\n",
       "      <th>0</th>\n",
       "      <td>मुमकिन है कि रिलायंस कैपिटल का शेयर 330 रुपये ...</td>\n",
       "      <td>positive</td>\n",
       "      <td>बुंदेलखंड के किसानों को अबकी बार बड़ी उम्मीदें...</td>\n",
       "      <td>negative</td>\n",
       "      <td>RT @mumbaitak: शिवसेना-बीजेपी गठबंधन में दरार,...</td>\n",
       "      <td>neutral</td>\n",
       "    </tr>\n",
       "    <tr>\n",
       "      <th>1</th>\n",
       "      <td>सितम्बर में इसकी कमिशिनिंग संभावित है।</td>\n",
       "      <td>positive</td>\n",
       "      <td>उन्होंने कहा कि चूंकि पूंजी की जरूरत बहुत बड़ी...</td>\n",
       "      <td>negative</td>\n",
       "      <td>RT @mumbaitak: शिवसेना-बीजेपी गठबंधन में दरार,...</td>\n",
       "      <td>neutral</td>\n",
       "    </tr>\n",
       "    <tr>\n",
       "      <th>2</th>\n",
       "      <td>भारतीय कंपनी ने संभावित डील के बारे में कमेंट ...</td>\n",
       "      <td>positive</td>\n",
       "      <td>पश्चिम बंगाल में शासन द्वारा ऐसी शिकायतें लगात...</td>\n",
       "      <td>negative</td>\n",
       "      <td>RT @mumbaitak: बोरवेल में फंसे 6 साल के मासूम ...</td>\n",
       "      <td>neutral</td>\n",
       "    </tr>\n",
       "    <tr>\n",
       "      <th>3</th>\n",
       "      <td>हम अदालत में लड़ाई लड़ने के अलावा इस मामले को ...</td>\n",
       "      <td>positive</td>\n",
       "      <td>शहर में नेटवर्किंग कारोबार का मकड़जाल लगातार फ...</td>\n",
       "      <td>negative</td>\n",
       "      <td>RT @mumbaitak: बीजेपी-शिवसेना गठबंधन पर उद्धव ...</td>\n",
       "      <td>neutral</td>\n",
       "    </tr>\n",
       "    <tr>\n",
       "      <th>4</th>\n",
       "      <td>असल में कोशिश की जा रही है कि संभावित तौर पर क...</td>\n",
       "      <td>positive</td>\n",
       "      <td>हमें नहीं लगता कि आने वाले दिनों में कीमतों मे...</td>\n",
       "      <td>negative</td>\n",
       "      <td>RT @mumbaitak: ठाणे के कोरम मॉल में घुसा तेंदु...</td>\n",
       "      <td>neutral</td>\n",
       "    </tr>\n",
       "  </tbody>\n",
       "</table>\n",
       "</div>"
      ],
      "text/plain": [
       "                                        hindi_text_1   label_1  \\\n",
       "0  मुमकिन है कि रिलायंस कैपिटल का शेयर 330 रुपये ...  positive   \n",
       "1             सितम्बर में इसकी कमिशिनिंग संभावित है।  positive   \n",
       "2  भारतीय कंपनी ने संभावित डील के बारे में कमेंट ...  positive   \n",
       "3  हम अदालत में लड़ाई लड़ने के अलावा इस मामले को ...  positive   \n",
       "4  असल में कोशिश की जा रही है कि संभावित तौर पर क...  positive   \n",
       "\n",
       "                                        hindi_text_2   label_2  \\\n",
       "0  बुंदेलखंड के किसानों को अबकी बार बड़ी उम्मीदें...  negative   \n",
       "1  उन्होंने कहा कि चूंकि पूंजी की जरूरत बहुत बड़ी...  negative   \n",
       "2  पश्चिम बंगाल में शासन द्वारा ऐसी शिकायतें लगात...  negative   \n",
       "3  शहर में नेटवर्किंग कारोबार का मकड़जाल लगातार फ...  negative   \n",
       "4  हमें नहीं लगता कि आने वाले दिनों में कीमतों मे...  negative   \n",
       "\n",
       "                                        hindi_text_3  label_3  \n",
       "0  RT @mumbaitak: शिवसेना-बीजेपी गठबंधन में दरार,...  neutral  \n",
       "1  RT @mumbaitak: शिवसेना-बीजेपी गठबंधन में दरार,...  neutral  \n",
       "2  RT @mumbaitak: बोरवेल में फंसे 6 साल के मासूम ...  neutral  \n",
       "3  RT @mumbaitak: बीजेपी-शिवसेना गठबंधन पर उद्धव ...  neutral  \n",
       "4  RT @mumbaitak: ठाणे के कोरम मॉल में घुसा तेंदु...  neutral  "
      ]
     },
     "execution_count": 58,
     "metadata": {},
     "output_type": "execute_result"
    }
   ],
   "source": [
    "test_data = read_ods(\"model_test.ods\", 1, headers=False)\n",
    "test_data = test_data.rename(columns={'column.0': 'hindi_text_1', 'column.1': 'label_1',\n",
    "                                      'column.2': 'hindi_text_2', 'column.3': 'label_2',\n",
    "                                      'column.4': 'hindi_text_3', 'column.5': 'label_3',})\n",
    "test_data.head(5)"
   ]
  },
  {
   "cell_type": "code",
   "execution_count": 59,
   "id": "e327b39f",
   "metadata": {},
   "outputs": [
    {
     "data": {
      "text/plain": [
       "685"
      ]
     },
     "execution_count": 59,
     "metadata": {},
     "output_type": "execute_result"
    }
   ],
   "source": [
    "len(test_data)"
   ]
  },
  {
   "cell_type": "code",
   "execution_count": 60,
   "id": "436ff78f",
   "metadata": {
    "scrolled": false
   },
   "outputs": [],
   "source": [
    "count_pos=0\n",
    "count_pos_neg=0\n",
    "count_neg=0\n",
    "count_neg_pos=0\n",
    "count_neu=0\n",
    "count_neu_pos=0\n",
    "\n",
    "for text in test_data.hindi_text_1:\n",
    "    if str(sentiment_model.predict(str(text))[0]) == \"positive\":\n",
    "        count_pos += 1\n",
    "    elif str(sentiment_model.predict(str(text))[0]) == \"negative\":\n",
    "        count_pos_neg += 1\n",
    "    \n",
    "for text in test_data.hindi_text_2:\n",
    "    if str(sentiment_model.predict(str(text))[0]) == \"negative\":\n",
    "        count_neg += 1\n",
    "    elif str(sentiment_model.predict(str(text))[0]) == \"positive\":\n",
    "        count_neg_pos += 1\n",
    "    \n",
    "for text in test_data.hindi_text_3:\n",
    "    if str(sentiment_model.predict(str(text))[0]) == \"neutral\":\n",
    "        count_neu+=1\n",
    "    elif str(sentiment_model.predict(str(text))[0]) == \"positive\":\n",
    "        count_neu_pos+=1\n"
   ]
  },
  {
   "cell_type": "markdown",
   "id": "0fa321d9",
   "metadata": {},
   "source": [
    "# Positive Test Data Eval Metrics"
   ]
  },
  {
   "cell_type": "code",
   "execution_count": 61,
   "id": "5275a6a3",
   "metadata": {},
   "outputs": [
    {
     "data": {
      "text/plain": [
       "(0.48613138686131385, 0.4759124087591241, 0.03795620437956204)"
      ]
     },
     "execution_count": 61,
     "metadata": {},
     "output_type": "execute_result"
    }
   ],
   "source": [
    "count_pos/685 , count_pos_neg/685 , 1-((count_pos+count_pos_neg)/685)"
   ]
  },
  {
   "cell_type": "markdown",
   "id": "9d79102f",
   "metadata": {},
   "source": [
    "# Negative Test Data Eval Metrics"
   ]
  },
  {
   "cell_type": "code",
   "execution_count": 62,
   "id": "6a288c4f",
   "metadata": {},
   "outputs": [
    {
     "data": {
      "text/plain": [
       "(0.8525547445255475, 0.10948905109489052, 0.03795620437956204)"
      ]
     },
     "execution_count": 62,
     "metadata": {},
     "output_type": "execute_result"
    }
   ],
   "source": [
    "count_neg/685 , count_neg_pos/685 , 1-((count_neg+count_neg_pos)/685)"
   ]
  },
  {
   "cell_type": "markdown",
   "id": "011a6623",
   "metadata": {},
   "source": [
    "# Neutral Test Data Eval Metrics"
   ]
  },
  {
   "cell_type": "code",
   "execution_count": 63,
   "id": "03211982",
   "metadata": {},
   "outputs": [
    {
     "data": {
      "text/plain": [
       "(0.727007299270073, 0.0364963503649635, 0.23649635036496353)"
      ]
     },
     "execution_count": 63,
     "metadata": {},
     "output_type": "execute_result"
    }
   ],
   "source": [
    "count_neu/685 , count_neu_pos/685 , 1-((count_neu+count_neu_pos)/685)"
   ]
  },
  {
   "cell_type": "code",
   "execution_count": 64,
   "id": "d1b33d04",
   "metadata": {},
   "outputs": [],
   "source": [
    "sentiment_model.export(\"sentiment_classifier_hindi.pkl\")"
   ]
  },
  {
   "cell_type": "code",
   "execution_count": null,
   "id": "5603065b",
   "metadata": {},
   "outputs": [],
   "source": []
  }
 ],
 "metadata": {
  "kernelspec": {
   "display_name": "Python 3",
   "language": "python",
   "name": "python3"
  },
  "language_info": {
   "codemirror_mode": {
    "name": "ipython",
    "version": 3
   },
   "file_extension": ".py",
   "mimetype": "text/x-python",
   "name": "python",
   "nbconvert_exporter": "python",
   "pygments_lexer": "ipython3",
   "version": "3.9.5"
  }
 },
 "nbformat": 4,
 "nbformat_minor": 5
}
