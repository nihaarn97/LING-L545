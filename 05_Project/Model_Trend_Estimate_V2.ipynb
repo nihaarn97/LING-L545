{
 "cells": [
  {
   "cell_type": "code",
   "execution_count": 4,
   "id": "e0613542",
   "metadata": {},
   "outputs": [],
   "source": [
    "from fastai.text import load_learner\n",
    "from urllib.request import urlopen, Request\n",
    "from bs4 import BeautifulSoup\n",
    "import pandas as pd\n",
    "from deep_translator import GoogleTranslator\n",
    "import warnings\n",
    "from collections import Counter\n",
    "\n",
    "warnings.filterwarnings('ignore')"
   ]
  },
  {
   "cell_type": "code",
   "execution_count": 5,
   "id": "5c869bfe",
   "metadata": {
    "scrolled": true
   },
   "outputs": [
    {
     "data": {
      "text/html": [
       "\n",
       "<style>\n",
       "    /* Turns off some styling */\n",
       "    progress {\n",
       "        /* gets rid of default border in Firefox and Opera. */\n",
       "        border: none;\n",
       "        /* Needs to be in here for Safari polyfill so background images work as expected. */\n",
       "        background-size: auto;\n",
       "    }\n",
       "    progress:not([value]), progress:not([value])::-webkit-progress-bar {\n",
       "        background: repeating-linear-gradient(45deg, #7e7e7e, #7e7e7e 10px, #5c5c5c 10px, #5c5c5c 20px);\n",
       "    }\n",
       "    .progress-bar-interrupted, .progress-bar-interrupted::-webkit-progress-bar {\n",
       "        background: #F44336;\n",
       "    }\n",
       "</style>\n"
      ],
      "text/plain": [
       "<IPython.core.display.HTML object>"
      ]
     },
     "metadata": {},
     "output_type": "display_data"
    },
    {
     "data": {
      "text/html": [],
      "text/plain": [
       "<IPython.core.display.HTML object>"
      ]
     },
     "metadata": {},
     "output_type": "display_data"
    },
    {
     "data": {
      "text/html": [
       "\n",
       "<style>\n",
       "    /* Turns off some styling */\n",
       "    progress {\n",
       "        /* gets rid of default border in Firefox and Opera. */\n",
       "        border: none;\n",
       "        /* Needs to be in here for Safari polyfill so background images work as expected. */\n",
       "        background-size: auto;\n",
       "    }\n",
       "    progress:not([value]), progress:not([value])::-webkit-progress-bar {\n",
       "        background: repeating-linear-gradient(45deg, #7e7e7e, #7e7e7e 10px, #5c5c5c 10px, #5c5c5c 20px);\n",
       "    }\n",
       "    .progress-bar-interrupted, .progress-bar-interrupted::-webkit-progress-bar {\n",
       "        background: #F44336;\n",
       "    }\n",
       "</style>\n"
      ],
      "text/plain": [
       "<IPython.core.display.HTML object>"
      ]
     },
     "metadata": {},
     "output_type": "display_data"
    },
    {
     "data": {
      "text/html": [],
      "text/plain": [
       "<IPython.core.display.HTML object>"
      ]
     },
     "metadata": {},
     "output_type": "display_data"
    }
   ],
   "source": [
    "sentiment_model = load_learner('model_v2')"
   ]
  },
  {
   "cell_type": "code",
   "execution_count": 6,
   "id": "916f3f0c",
   "metadata": {
    "scrolled": false
   },
   "outputs": [
    {
     "data": {
      "text/plain": [
       "'negative'"
      ]
     },
     "execution_count": 6,
     "metadata": {},
     "output_type": "execute_result"
    }
   ],
   "source": [
    "str(sentiment_model.predict(\"आज़तक पर देखिये कितनी स्मार्ट हुई स्मार्ट फेंसिंग Exclusive आज रात 9.30 pm पर @BSF_India\")[0])"
   ]
  },
  {
   "cell_type": "markdown",
   "id": "6c5eb3aa",
   "metadata": {},
   "source": [
    "# Extract News Headlines From Finviz"
   ]
  },
  {
   "cell_type": "code",
   "execution_count": 17,
   "id": "4356cf7f",
   "metadata": {},
   "outputs": [],
   "source": [
    "finviz_url = 'https://finviz.com/quote.ashx?t='\n",
    "ticker = 'ADBE'\n",
    "news_tables = {}\n",
    "url = finviz_url + ticker\n",
    "req = Request(url=url, headers={'user-agent': 'my-app'})\n",
    "response = urlopen(req)\n",
    "html = BeautifulSoup(response, 'html')\n",
    "news_table = html.find(id='news-table')\n",
    "news_tables[ticker] = news_table"
   ]
  },
  {
   "cell_type": "markdown",
   "id": "a592d604",
   "metadata": {},
   "source": [
    "# Overall Sentiment Test"
   ]
  },
  {
   "cell_type": "code",
   "execution_count": 18,
   "id": "83a694a7",
   "metadata": {},
   "outputs": [
    {
     "data": {
      "text/plain": [
       "'negative'"
      ]
     },
     "execution_count": 18,
     "metadata": {},
     "output_type": "execute_result"
    }
   ],
   "source": [
    "sentiment = []\n",
    "for ticker, news_table in news_tables.items():\n",
    "    for row in news_table.findAll('tr'):\n",
    "        if row.a and row.a.text:\n",
    "            title = row.a.get_text()\n",
    "            sentiment.append(str(sentiment_model.predict(GoogleTranslator(source='auto', target='hi').translate(title))[0]))\n",
    "\n",
    "sentiment_counts = Counter(sentiment)\n",
    "overall_sentiment = max(sentiment_counts, key=sentiment_counts.get)\n",
    "overall_sentiment"
   ]
  },
  {
   "cell_type": "markdown",
   "id": "2bda9ebe",
   "metadata": {},
   "source": [
    "# Today Sentiment Test"
   ]
  },
  {
   "cell_type": "code",
   "execution_count": 19,
   "id": "b282d52d",
   "metadata": {},
   "outputs": [
    {
     "data": {
      "text/plain": [
       "'negative'"
      ]
     },
     "execution_count": 19,
     "metadata": {},
     "output_type": "execute_result"
    }
   ],
   "source": [
    "parsed_data = []\n",
    "date = ''\n",
    "\n",
    "for ticker, news_table in news_tables.items():\n",
    "    for row in news_table.findAll('tr'):\n",
    "        if row.a and row.a.text:\n",
    "            title = row.a.get_text()\n",
    "            date_data = [item for item in row.td.text.split(' ') if item.strip()]\n",
    "            if len(date_data) == 2:\n",
    "                date = date_data[0]\n",
    "            if date == 'Dec-10-23':\n",
    "                parsed_data.append([ticker, date, title])\n",
    "            else:\n",
    "                break\n",
    "            \n",
    "sentiment = []\n",
    "for text in parsed_data:\n",
    "    sentiment.append(str(sentiment_model.predict(GoogleTranslator(source='auto', target='hi').translate(text[2]))[0]))\n",
    "\n",
    "    sentiment_counts = Counter(sentiment)\n",
    "today_sentiment = max(sentiment_counts, key=sentiment_counts.get)\n",
    "today_sentiment"
   ]
  },
  {
   "cell_type": "code",
   "execution_count": null,
   "id": "287ed00d",
   "metadata": {},
   "outputs": [],
   "source": []
  }
 ],
 "metadata": {
  "kernelspec": {
   "display_name": "Python 3",
   "language": "python",
   "name": "python3"
  },
  "language_info": {
   "codemirror_mode": {
    "name": "ipython",
    "version": 3
   },
   "file_extension": ".py",
   "mimetype": "text/x-python",
   "name": "python",
   "nbconvert_exporter": "python",
   "pygments_lexer": "ipython3",
   "version": "3.9.5"
  }
 },
 "nbformat": 4,
 "nbformat_minor": 5
}
